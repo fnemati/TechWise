{
  "nbformat": 4,
  "nbformat_minor": 0,
  "metadata": {
    "colab": {
      "provenance": [],
      "include_colab_link": true
    },
    "kernelspec": {
      "name": "python3",
      "display_name": "Python 3"
    }
  },
  "cells": [
    {
      "cell_type": "markdown",
      "metadata": {
        "id": "view-in-github",
        "colab_type": "text"
      },
      "source": [
        "<a href=\"https://colab.research.google.com/github/fnemati/TechWise/blob/main/TWC3_Assignment_09_02.ipynb\" target=\"_parent\"><img src=\"https://colab.research.google.com/assets/colab-badge.svg\" alt=\"Open In Colab\"/></a>"
      ]
    },
    {
      "cell_type": "markdown",
      "metadata": {
        "id": "Na0j6cv7D83_"
      },
      "source": [
        "# This is Assignment 09-02 workbook for TechWise Program"
      ]
    },
    {
      "cell_type": "markdown",
      "metadata": {
        "id": "BNLA8HiKxQhc"
      },
      "source": [
        "### Setup Steps:"
      ]
    },
    {
      "cell_type": "code",
      "metadata": {
        "id": "2YzfoPvJDiTX"
      },
      "source": [
        "#@title Please enter your registration id to start: { run: \"auto\", display-mode: \"form\" }\n",
        "Id = \"2304951\" #@param {type:\"string\"}"
      ],
      "execution_count": 1,
      "outputs": []
    },
    {
      "cell_type": "code",
      "metadata": {
        "id": "WBPPuGmBlDIN",
        "outputId": "818ef6d5-d5d1-47e2-c888-c78544820dfc",
        "colab": {
          "base_uri": "https://localhost:8080/",
          "height": 35
        }
      },
      "source": [
        "#@title Run this cell to complete the setup for this Notebook\n",
        "from IPython import get_ipython\n",
        "\n",
        "ipython = get_ipython()\n",
        "\n",
        "notebook= \"TWC3_Assignment_09-02\" #name of the notebook\n",
        "\n",
        "def setup():\n",
        "#  ipython.magic(\"sx pip3 install torch\")\n",
        "    from IPython.display import HTML, display\n",
        "    display(HTML('<script src=\"https://dashboard.talentsprint.com/aiml/record_ip.html?traineeId={0}&recordId={1}\"></script>'.format(getId(),submission_id)))\n",
        "    print(\"Setup completed successfully\")\n",
        "    return\n",
        "\n",
        "def submit_notebook():\n",
        "    ipython.magic(\"notebook -e \"+ notebook + \".ipynb\")\n",
        "\n",
        "    import requests, json, base64, datetime\n",
        "\n",
        "    url = \"https://dashboard.talentsprint.com/xp/app/save_notebook_attempts\"\n",
        "    if not submission_id:\n",
        "      data = {\"id\" : getId(), \"notebook\" : notebook}\n",
        "      r = requests.post(url, data = data)\n",
        "      r = json.loads(r.text)\n",
        "\n",
        "      if r[\"status\"] == \"Success\":\n",
        "\n",
        "          return r[\"record_id\"]\n",
        "      elif \"err\" in r:\n",
        "        print(r[\"err\"])\n",
        "        return None\n",
        "      else:\n",
        "        print (\"Something is wrong, the notebook will not be submitted for grading\")\n",
        "        return None\n",
        "\n",
        "    elif getComplexity() and getTimeTaken() and getStatus():\n",
        "      f = open(notebook + \".ipynb\", \"rb\")\n",
        "      file_hash = base64.b64encode(f.read())\n",
        "      data = {\"complexity\" : Complexity,\n",
        "              \"record_id\" : submission_id,\n",
        "              \"id\" : Id, \"file_hash\" : file_hash,\n",
        "              \"notebook\" : notebook, \"timetaken\" : TimeTaken, \"experiment_status\" : Status}\n",
        "      r = requests.post(url, data = data)\n",
        "      r = json.loads(r.text)\n",
        "      if \"err\" in r:\n",
        "        print(r[\"err\"])\n",
        "        return None\n",
        "      else:\n",
        "        print(\"Your submission is successful.\")\n",
        "        print(\"Ref Id:\", submission_id)\n",
        "        print(\"Date of submission: \", r[\"date\"])\n",
        "        print(\"Time of submission: \", r[\"time\"])\n",
        "        print(\"View your submissions: https://learn-techwise.talentsprint.com/notebook_submissions\")\n",
        "        #print(\"For any queries/discrepancies, please connect with mentors through the chat icon in LMS dashboard.\")\n",
        "        return submission_id\n",
        "    else: submission_id\n",
        "\n",
        "\n",
        "def getStatus():\n",
        "  try:\n",
        "    if not Status:\n",
        "      raise NameError\n",
        "    else:\n",
        "      return Status\n",
        "  except NameError:\n",
        "    print (\"Please answer Status Question\")\n",
        "    return None\n",
        "\n",
        "def getTimeTaken():\n",
        "  try:\n",
        "    if not TimeTaken:\n",
        "      raise NameError\n",
        "    else:\n",
        "      return TimeTaken\n",
        "  except NameError:\n",
        "    print (\"Please answer TimeTaken Question\")\n",
        "    return None\n",
        "\n",
        "def getComplexity():\n",
        "  try:\n",
        "    if not Complexity:\n",
        "      raise NameError\n",
        "    else:\n",
        "      return Complexity\n",
        "  except NameError:\n",
        "    print (\"Please answer Complexity Question\")\n",
        "    return None\n",
        "\n",
        "\n",
        "def getId():\n",
        "  try:\n",
        "    return Id if Id else None\n",
        "  except NameError:\n",
        "    return None\n",
        "\n",
        "\n",
        "submission_id = None\n",
        "### Setup\n",
        "if  getId():\n",
        "  submission_id = submit_notebook()\n",
        "  if submission_id:\n",
        "    setup()\n",
        "else:\n",
        "  print (\"Please complete Id cell before running setup\")\n",
        "\n"
      ],
      "execution_count": 2,
      "outputs": [
        {
          "output_type": "display_data",
          "data": {
            "text/plain": [
              "<IPython.core.display.HTML object>"
            ],
            "text/html": [
              "<script src=\"https://dashboard.talentsprint.com/aiml/record_ip.html?traineeId=2304951&recordId=9071\"></script>"
            ]
          },
          "metadata": {}
        },
        {
          "output_type": "stream",
          "name": "stdout",
          "text": [
            "Setup completed successfully\n"
          ]
        }
      ]
    },
    {
      "cell_type": "markdown",
      "source": [
        "# Assignment 09-02\n",
        "\n",
        "* How to produce an upside down triangle?\n",
        "\n",
        "                       * * * * * * *                        \n",
        "                        * * * * * *                         \n",
        "                         * * * * *                          \n",
        "                          * * * *                           \n",
        "                           * * *                            \n",
        "                            * *                             \n",
        "                             *                              \n",
        "\n"
      ],
      "metadata": {
        "id": "8kU1SMdbaGPP"
      }
    },
    {
      "cell_type": "code",
      "source": [
        "STAR, SPACE, CRLF = '*', ' ', '\\n'\n",
        "START, REPEAT, END = STAR, SPACE + STAR, ''\n",
        "WIDTH = 60\n",
        "def start_line(line_num):\n",
        "    return START\n",
        "def repeat_middle(line_num):\n",
        "    return line_num * REPEAT\n",
        "def end_line(line_num):\n",
        "    return END\n",
        "def line(line_num):\n",
        "    return start_line(line_num) + repeat_middle(line_num) + end_line(line_num)\n",
        "def make_pyramid(size):\n",
        "    pyramid = []\n",
        "    for line_num in range(size):\n",
        "      pyramid.append(line(line_num))\n",
        "    return pyramid"
      ],
      "metadata": {
        "id": "ZWKiPbhPGeWw"
      },
      "execution_count": 3,
      "outputs": []
    },
    {
      "cell_type": "code",
      "source": [
        "def upside_down_triangle(length: int):\n",
        "    pyramid = []\n",
        "    ps = make_pyramid(length)\n",
        "    for p in ps[::-1]:\n",
        "      pyramid.append(p.center(WIDTH))\n",
        "    return CRLF.join(pyramid)\n",
        "\n",
        "print(upside_down_triangle(7))"
      ],
      "metadata": {
        "id": "NbCC7yMiClZ2",
        "colab": {
          "base_uri": "https://localhost:8080/"
        },
        "outputId": "f073fc66-f317-4727-826a-d48d8ea277dd"
      },
      "execution_count": 5,
      "outputs": [
        {
          "output_type": "stream",
          "name": "stdout",
          "text": [
            "                       * * * * * * *                        \n",
            "                        * * * * * *                         \n",
            "                         * * * * *                          \n",
            "                          * * * *                           \n",
            "                           * * *                            \n",
            "                            * *                             \n",
            "                             *                              \n"
          ]
        }
      ]
    },
    {
      "cell_type": "markdown",
      "source": [
        "* How to produce a right_angled triangle?\n",
        "\n",
        "      *\n",
        "      * *\n",
        "      * * *\n",
        "      * * * *\n",
        "      * * * * *\n",
        "      * * * * * *\n",
        "      * * * * * * *\n",
        "\n"
      ],
      "metadata": {
        "id": "Syk5R_gxBIkF"
      }
    },
    {
      "cell_type": "code",
      "source": [
        "def right_angle(length: int):\n",
        "    pyramid = []\n",
        "    ps = make_pyramid(length)\n",
        "    for p in ps:\n",
        "      pyramid.append(p)\n",
        "    return CRLF.join(pyramid)\n",
        "\n",
        "print(right_angle(7))"
      ],
      "metadata": {
        "id": "Gh43ejTDCkQd",
        "colab": {
          "base_uri": "https://localhost:8080/"
        },
        "outputId": "c76546c3-c49e-4dbb-8e21-976377f07839"
      },
      "execution_count": 6,
      "outputs": [
        {
          "output_type": "stream",
          "name": "stdout",
          "text": [
            "*\n",
            "* *\n",
            "* * *\n",
            "* * * *\n",
            "* * * * *\n",
            "* * * * * *\n",
            "* * * * * * *\n"
          ]
        }
      ]
    },
    {
      "cell_type": "markdown",
      "source": [
        "\n",
        "* How to produce a right_angled triangle, facing the other way?\n",
        "                             *\n",
        "                           * *\n",
        "                         * * *\n",
        "                       * * * *\n",
        "                     * * * * *\n",
        "                   * * * * * *\n",
        "                 * * * * * * *\n"
      ],
      "metadata": {
        "id": "cPwv5RGUBuR-"
      }
    },
    {
      "cell_type": "code",
      "source": [
        "def right_angle_opp(length: int):\n",
        "    pyramid = []\n",
        "    ps = make_pyramid(length)\n",
        "    for p in ps:\n",
        "      pyramid.append(p.rjust(WIDTH))\n",
        "    return CRLF.join(pyramid)\n",
        "\n",
        "print(right_angle_opp(7))"
      ],
      "metadata": {
        "id": "ugXTaDf6Ca8j",
        "colab": {
          "base_uri": "https://localhost:8080/"
        },
        "outputId": "725ff056-6a63-42a1-8f4f-71ab5373738c"
      },
      "execution_count": 7,
      "outputs": [
        {
          "output_type": "stream",
          "name": "stdout",
          "text": [
            "                                                           *\n",
            "                                                         * *\n",
            "                                                       * * *\n",
            "                                                     * * * *\n",
            "                                                   * * * * *\n",
            "                                                 * * * * * *\n",
            "                                               * * * * * * *\n"
          ]
        }
      ]
    },
    {
      "cell_type": "markdown",
      "source": [
        "\n",
        "* How to produce a diamond?\n",
        "\n",
        "                             *                              \n",
        "                            * *                             \n",
        "                           * * *                            \n",
        "                          * * * *                           \n",
        "                         * * * * *                          \n",
        "                        * * * * * *                         \n",
        "                       * * * * * * *                        \n",
        "                        * * * * * *                         \n",
        "                         * * * * *                          \n",
        "                          * * * *                           \n",
        "                           * * *                            \n",
        "                            * *                             \n",
        "                             *                 "
      ],
      "metadata": {
        "id": "xhEqPnKPCJ8K"
      }
    },
    {
      "cell_type": "code",
      "source": [
        "def diamond(length: int):\n",
        "    pyramid = []\n",
        "    ps = make_pyramid(length)\n",
        "    for p in ps + ps[::-1]:\n",
        "      pyramid.append(p.center(WIDTH))\n",
        "    return CRLF.join(pyramid)\n",
        "\n",
        "print(diamond(13))"
      ],
      "metadata": {
        "id": "-kgm-uzFaF01",
        "colab": {
          "base_uri": "https://localhost:8080/"
        },
        "outputId": "afca7d6f-a834-4892-dc1b-b140b54bdfb4"
      },
      "execution_count": 9,
      "outputs": [
        {
          "output_type": "stream",
          "name": "stdout",
          "text": [
            "                             *                              \n",
            "                            * *                             \n",
            "                           * * *                            \n",
            "                          * * * *                           \n",
            "                         * * * * *                          \n",
            "                        * * * * * *                         \n",
            "                       * * * * * * *                        \n",
            "                      * * * * * * * *                       \n",
            "                     * * * * * * * * *                      \n",
            "                    * * * * * * * * * *                     \n",
            "                   * * * * * * * * * * *                    \n",
            "                  * * * * * * * * * * * *                   \n",
            "                 * * * * * * * * * * * * *                  \n",
            "                 * * * * * * * * * * * * *                  \n",
            "                  * * * * * * * * * * * *                   \n",
            "                   * * * * * * * * * * *                    \n",
            "                    * * * * * * * * * *                     \n",
            "                     * * * * * * * * *                      \n",
            "                      * * * * * * * *                       \n",
            "                       * * * * * * *                        \n",
            "                        * * * * * *                         \n",
            "                         * * * * *                          \n",
            "                          * * * *                           \n",
            "                           * * *                            \n",
            "                            * *                             \n",
            "                             *                              \n"
          ]
        }
      ]
    },
    {
      "cell_type": "markdown",
      "metadata": {
        "id": "VHfHdGCP_n6Y"
      },
      "source": [
        "### Please answer the questions below to complete the experiment:\n",
        "\n",
        "\n"
      ]
    },
    {
      "cell_type": "code",
      "metadata": {
        "id": "NMzKSbLIgFzQ"
      },
      "source": [
        "#@title How was the experiment? { run: \"auto\", form-width: \"500px\", display-mode: \"form\" }\n",
        "Complexity = \"Good, But Not Challenging for me\" #@param [\"\",\"Too Simple, I am wasting time\", \"Good, But Not Challenging for me\", \"Good and Challenging for me\", \"Was Tough, but I did it\", \"Too Difficult for me\"]\n"
      ],
      "execution_count": 10,
      "outputs": []
    },
    {
      "cell_type": "code",
      "metadata": {
        "id": "ukxderAFFkAy"
      },
      "source": [
        "#@title How much time did you take? { run: \"auto\", form-width: \"500px\", display-mode: \"form\" }\n",
        "TimeTaken = \"Below 1 Hour\" #@param [\"\",\"Below 1 Hour\", \"1 Hour\", \"2 Hour\", \"More Than 2 Hour\"]\n"
      ],
      "execution_count": 11,
      "outputs": []
    },
    {
      "cell_type": "code",
      "metadata": {
        "id": "O2eotYAjGiKh"
      },
      "source": [
        "#@title Could you complete the experiment without seeing the Video? { run: \"auto\", form-width: \"500px\", display-mode: \"form\" }\n",
        "Status = \"No\" #@param [\"\",\"Yes\", \"No\"]\n"
      ],
      "execution_count": 12,
      "outputs": []
    },
    {
      "cell_type": "code",
      "metadata": {
        "id": "FzAZHt1zw-Y-",
        "cellView": "form",
        "outputId": "ab41adaf-6181-4e4d-f1a3-198815066ec7",
        "colab": {
          "base_uri": "https://localhost:8080/"
        }
      },
      "source": [
        "#@title Run this cell to submit your notebook for grading { vertical-output: true }\n",
        "try:\n",
        "  if submission_id:\n",
        "      return_id = submit_notebook()\n",
        "      if return_id : submission_id = return_id\n",
        "  else:\n",
        "      print(\"Please complete the setup first.\")\n",
        "except NameError as err:\n",
        "  print(err)\n",
        "  print (\"Please complete the setup first.\")"
      ],
      "execution_count": 13,
      "outputs": [
        {
          "output_type": "stream",
          "name": "stdout",
          "text": [
            "Your submission is successful.\n",
            "Ref Id: 9071\n",
            "Date of submission:  08 May 2024 (UTC)\n",
            "Time of submission:  21:39:54 (UTC)\n",
            "View your submissions: https://learn-techwise.talentsprint.com/notebook_submissions\n"
          ]
        }
      ]
    }
  ]
}