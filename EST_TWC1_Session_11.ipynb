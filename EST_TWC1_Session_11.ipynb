{
  "nbformat": 4,
  "nbformat_minor": 0,
  "metadata": {
    "colab": {
      "provenance": [],
      "include_colab_link": true
    },
    "kernelspec": {
      "name": "python3",
      "display_name": "Python 3"
    },
    "language_info": {
      "name": "python"
    }
  },
  "cells": [
    {
      "cell_type": "markdown",
      "metadata": {
        "id": "view-in-github",
        "colab_type": "text"
      },
      "source": [
        "<a href=\"https://colab.research.google.com/github/fnemati/TechWise/blob/main/EST_TWC1_Session_11.ipynb\" target=\"_parent\"><img src=\"https://colab.research.google.com/assets/colab-badge.svg\" alt=\"Open In Colab\"/></a>"
      ]
    },
    {
      "cell_type": "markdown",
      "source": [
        "# Coverage\n",
        "\n",
        "    * Printing patterns\n",
        "\n",
        "    * Composing patterns\n"
      ],
      "metadata": {
        "id": "vD4BQryiJDwn"
      }
    },
    {
      "cell_type": "markdown",
      "source": [
        "This code looks ok; and this is about the best we can do for the problem if we have no further needs/information\n",
        "\n",
        "Now let us we are asked to do\n",
        "\n",
        "### Pattern B\n",
        "\n",
        "           *\n",
        "          * *\n",
        "         * * *\n",
        "        * * * *\n",
        "       * * * * *\n",
        "\n",
        "We can copy the previous code and amke some changes and produce the answer. But we should instead think as follows:\n",
        "  * this is very similar to the previous\n",
        "  * so if we better abstract the lines we should be able to handle both pyramids in code\n",
        "  * This is what we mean by changeability\n",
        "    - one change in spec $\\Rightarrow$ one change in code\n",
        "  * since we cannot do that, we should rewrite the original.\n",
        "\n",
        "Break down each line of the pattern. What is the most general way to **describe** each line of the output?"
      ],
      "metadata": {
        "id": "eljqs0spY6iJ"
      }
    },
    {
      "cell_type": "markdown",
      "source": [
        "A line has\n",
        "   * something  that starts it\n",
        "   * something that ends it\n",
        "   * something that repeats -- possibly repeats as many times as the line number"
      ],
      "metadata": {
        "id": "MEIWfWgLZ6EB"
      }
    },
    {
      "cell_type": "code",
      "source": [
        "WIDTH = 30\n",
        "CRLF = '\\n'\n",
        "\n",
        "def line(line_num: int) -> str:\n",
        "    return start_line(line_num) + repeat_middle(line_num) + end_line(line_num)\n",
        "\n",
        "def start_line(line_num: int) -> str:\n",
        "    return '*'\n",
        "\n",
        "def repeat_middle(line_num: int) -> str:\n",
        "    return line_num * ' *'\n",
        "\n",
        "def end_line(line_num: int) -> str:\n",
        "    return ''\n",
        "\n",
        "def pyramid_b1(size: int) -> list[str]:\n",
        "    pyramid = []\n",
        "    for line_num in range(size):\n",
        "        pyramid.append(line(line_num))\n",
        "    return pyramid\n",
        "\n",
        "def format_pyramid(ps: list[str]) -> str:\n",
        "    pyramid = []\n",
        "    for p in ps:\n",
        "        pyramid.append(p.center(WIDTH))\n",
        "    return CRLF.join(pyramid)\n",
        "\n",
        "print(format_pyramid(pyramid_b1(7)))"
      ],
      "metadata": {
        "colab": {
          "base_uri": "https://localhost:8080/"
        },
        "id": "Nh_A-9xdbfp8",
        "outputId": "46aef957-ac82-4e02-f060-a4d4b29b1af5"
      },
      "execution_count": null,
      "outputs": [
        {
          "output_type": "stream",
          "name": "stdout",
          "text": [
            "              *               \n",
            "             * *              \n",
            "            * * *             \n",
            "           * * * *            \n",
            "          * * * * *           \n",
            "         * * * * * *          \n",
            "        * * * * * * *         \n"
          ]
        }
      ]
    },
    {
      "cell_type": "markdown",
      "source": [
        "We can improve this"
      ],
      "metadata": {
        "id": "IuvlASFOb7HM"
      }
    },
    {
      "cell_type": "markdown",
      "source": [
        "Now it is obvious what and where needs to be changed to produce different patterns\n",
        "\n",
        "\n",
        "**Brain Teaser**\n",
        "\n",
        "Produce the following pyramid\n",
        "\n",
        "        @\n",
        "       @-@\n",
        "      @---@\n",
        "     @-----@\n",
        "    @-------@\n"
      ],
      "metadata": {
        "id": "jmg8Gg3CcekO"
      }
    },
    {
      "cell_type": "code",
      "source": [
        "WIDTH = 30\n",
        "CRLF = '\\n'\n",
        "\n",
        "def line(line_num: int) -> str:\n",
        "    return start_line(line_num) + repeat_middle(line_num) + end_line(line_num)\n",
        "\n",
        "def start_line(line_num: int) -> str:\n",
        "    return '*'\n",
        "\n",
        "def repeat_middle(line_num: int) -> str:\n",
        "    return line_num * '--'\n",
        "\n",
        "def end_line(line_num: int) -> str:\n",
        "    return '\\b@'\n",
        "\n",
        "def pyramid_b1(size: int) -> list[str]:\n",
        "    pyramid = []\n",
        "    for line_num in range(size):\n",
        "        pyramid.append(line(line_num))\n",
        "    return pyramid\n",
        "\n",
        "def format_pyramid(ps: list[str]) -> str:\n",
        "    pyramid = []\n",
        "    for p in ps:\n",
        "        pyramid.append(p.center(WIDTH))\n",
        "    return CRLF.join(pyramid)\n",
        "\n",
        "print(format_pyramid(pyramid_b1(7)))"
      ],
      "metadata": {
        "id": "x6ZPDTe1ccOW",
        "colab": {
          "base_uri": "https://localhost:8080/"
        },
        "outputId": "ff0e4463-a159-4c0d-aff7-352bede3bd1d"
      },
      "execution_count": null,
      "outputs": [
        {
          "output_type": "stream",
          "name": "stdout",
          "text": [
            "             *\b@              \n",
            "            *--\b@             \n",
            "           *----\b@            \n",
            "          *------\b@           \n",
            "         *--------\b@          \n",
            "        *----------\b@         \n",
            "       *------------\b@        \n"
          ]
        }
      ]
    },
    {
      "cell_type": "code",
      "source": [
        "WIDTH = 30\n",
        "CRLF = '\\n'\n",
        "AT, DASH = '@', '-'\n",
        "START, REPEAT, END = AT, DASH, AT\n",
        "\n",
        "def line(line_num: int) -> str:\n",
        "    return start_line(line_num) + repeat_middle(line_num) + end_line(line_num)\n",
        "\n",
        "def start_line(line_num: int) -> str:\n",
        "    return START\n",
        "\n",
        "def repeat_middle(line_num: int) -> str:\n",
        "    return (2 * line_num - 1) * REPEAT\n",
        "\n",
        "def end_line(line_num: int) -> str:\n",
        "    return END if line_num > 0 else ''\n",
        "\n",
        "def pyramid_b1(size: int) -> list[str]:\n",
        "    pyramid = []\n",
        "    for line_num in range(size):\n",
        "        pyramid.append(line(line_num))\n",
        "    return pyramid\n",
        "\n",
        "def format_pyramid(ps: list[str]) -> str:\n",
        "    pyramid = []\n",
        "    for p in ps:\n",
        "        pyramid.append(p.center(WIDTH))\n",
        "    return CRLF.join(pyramid)\n",
        "\n",
        "print(format_pyramid(pyramid_b1(7)))"
      ],
      "metadata": {
        "colab": {
          "base_uri": "https://localhost:8080/"
        },
        "id": "bR7cjYVwzs9u",
        "outputId": "9ccb6c35-d821-44b7-95f6-eac0815bf335"
      },
      "execution_count": null,
      "outputs": [
        {
          "output_type": "stream",
          "name": "stdout",
          "text": [
            "              @               \n",
            "             @-@              \n",
            "            @---@             \n",
            "           @-----@            \n",
            "          @-------@           \n",
            "         @---------@          \n",
            "        @-----------@         \n"
          ]
        }
      ]
    },
    {
      "cell_type": "markdown",
      "source": [
        "    A\n",
        "    B B\n",
        "    C C C\n",
        "    D D D D\n",
        "    E E E E E"
      ],
      "metadata": {
        "id": "UwodMAGfmtWh"
      }
    },
    {
      "cell_type": "code",
      "source": [
        "chr(65)"
      ],
      "metadata": {
        "colab": {
          "base_uri": "https://localhost:8080/",
          "height": 35
        },
        "id": "9mBOBCxC0PP1",
        "outputId": "7c7efca1-6c19-47a5-d1cc-07563d8df956"
      },
      "execution_count": null,
      "outputs": [
        {
          "output_type": "execute_result",
          "data": {
            "text/plain": [
              "'A'"
            ],
            "application/vnd.google.colaboratory.intrinsic+json": {
              "type": "string"
            }
          },
          "metadata": {},
          "execution_count": 5
        }
      ]
    },
    {
      "cell_type": "code",
      "source": [
        "WIDTH = 30\n",
        "CRLF = '\\n'\n",
        "\n",
        "def line(line_num: int) -> str:\n",
        "    result = \"\"\n",
        "    for i in range(line_num + 1):\n",
        "        result += chr(65 + line_num) + \" \"\n",
        "    return result\n",
        "\n",
        "def pyramid_c1(size: int) -> list[str]:\n",
        "    pyramid = []\n",
        "    for line_num in range(size):\n",
        "        pyramid.append(line(line_num))\n",
        "    return pyramid\n",
        "\n",
        "def format_right_triangle(ps: list[str]) -> str:\n",
        "    pyramid = []\n",
        "    for p in ps:\n",
        "        pyramid.append(p.ljust(WIDTH))\n",
        "    return CRLF.join(pyramid)\n",
        "\n",
        "print(format_right_triangle(pyramid_b1(7)))\n"
      ],
      "metadata": {
        "colab": {
          "base_uri": "https://localhost:8080/"
        },
        "id": "VD7SuzgTmaOp",
        "outputId": "71528980-2080-454c-e821-c800207f2135"
      },
      "execution_count": null,
      "outputs": [
        {
          "output_type": "stream",
          "name": "stdout",
          "text": [
            "A                             \n",
            "B B                           \n",
            "C C C                         \n",
            "D D D D                       \n",
            "E E E E E                     \n",
            "F F F F F F                   \n",
            "G G G G G G G                 \n"
          ]
        }
      ]
    },
    {
      "cell_type": "markdown",
      "source": [
        "          A\n",
        "         A B\n",
        "        A B C\n",
        "       A B C D\n",
        "      A B C D E"
      ],
      "metadata": {
        "id": "g42j_jeQmbFF"
      }
    },
    {
      "cell_type": "code",
      "source": [
        "WIDTH = 30\n",
        "CRLF = '\\n'\n",
        "\n",
        "def line(line_num: int) -> str:\n",
        "    result = \"\"\n",
        "    for i in range(line_num + 1):\n",
        "        result += chr(65 + i) + \" \"\n",
        "    return result\n",
        "\n",
        "def pyramid_c1(size: int) -> list[str]:\n",
        "    pyramid = []\n",
        "    for line_num in range(size):\n",
        "        pyramid.append(line(line_num))\n",
        "    return pyramid\n",
        "\n",
        "def format_pyramid(ps: list[str]) -> str:\n",
        "    pyramid = []\n",
        "    for p in ps:\n",
        "        pyramid.append(p.center(WIDTH))\n",
        "    return CRLF.join(pyramid)\n",
        "\n",
        "print(format_pyramid(pyramid_b1(7)))\n"
      ],
      "metadata": {
        "colab": {
          "base_uri": "https://localhost:8080/"
        },
        "id": "OgJhn3CBmtEk",
        "outputId": "06c771fc-826f-48ad-d339-4dcd2ded4286"
      },
      "execution_count": null,
      "outputs": [
        {
          "output_type": "stream",
          "name": "stdout",
          "text": [
            "              A               \n",
            "             A B              \n",
            "            A B C             \n",
            "           A B C D            \n",
            "          A B C D E           \n",
            "         A B C D E F          \n",
            "        A B C D E F G         \n"
          ]
        }
      ]
    },
    {
      "cell_type": "code",
      "source": [
        "WIDTH = 49\n",
        "CRLF = '\\n'\n",
        "AT, DASH = '@', '-'\n",
        "#START, REPEAT, END = AT, DASH, AT\n",
        "#COL_MULT, ROW_MULT = 0, 0\n",
        "START, REPEAT, END = 'A', 'B', ''\n",
        "COL_MULT, ROW_MULT = 1, 0\n",
        "\n",
        "\n",
        "def line(line_num: int) -> str:\n",
        "    return start_line(line_num) + repeat_middle(line_num) + end_line(line_num)\n",
        "\n",
        "def start_line(line_num: int) -> str:\n",
        "    return add_row_mult(line_num, START)\n",
        "\n",
        "def add_row_mult(line_num, char) -> str:\n",
        "    return chr(ord(char) + (ROW_MULT * line_num))\n",
        "\n",
        "def add_line_mult(line_num, char: str, mult: int) -> str:\n",
        "    return chr(ord(add_row_mult(line_num, char)) + (COL_MULT * mult))\n",
        "\n",
        "def repeat_middle(line_num: int) -> str:\n",
        "    return ''.join(add_line_mult(line_num, char, i) for i, char in enumerate(repeat_middle_base(line_num)))\n",
        "\n",
        "def repeat_middle_base(line_num: int) -> str:\n",
        "    return (2 * line_num - 1) * REPEAT\n",
        "\n",
        "def end_line(line_num: int) -> str:\n",
        "    return END if line_num > 0 else ''\n",
        "\n",
        "def pyramid_b1(size: int) -> list[str]:\n",
        "    pyramid = []\n",
        "    for line_num in range(size):\n",
        "        pyramid.append(line(line_num))\n",
        "    return pyramid\n",
        "\n",
        "def add_spaces(line: str) -> str:\n",
        "    return ''.join(' ' + char for char in line)\n",
        "\n",
        "def format_pyramid(ps: list[str]) -> str:\n",
        "    pyramid = []\n",
        "    for p in ps:\n",
        "        spaced = add_spaces(p)\n",
        "        pyramid.append(spaced.center(WIDTH))\n",
        "    return CRLF.join(pyramid)\n",
        "\n",
        "print(format_pyramid(pyramid_b1(7)))"
      ],
      "metadata": {
        "colab": {
          "base_uri": "https://localhost:8080/"
        },
        "id": "2eIipRMw-UoA",
        "outputId": "bc5fb3a2-87ce-476f-a44d-e95ef43acee7"
      },
      "execution_count": null,
      "outputs": [
        {
          "output_type": "stream",
          "name": "stdout",
          "text": [
            "                         A                       \n",
            "                        A B                      \n",
            "                      A B C D                    \n",
            "                    A B C D E F                  \n",
            "                  A B C D E F G H                \n",
            "                A B C D E F G H I J              \n",
            "              A B C D E F G H I J K L            \n"
          ]
        }
      ]
    },
    {
      "cell_type": "markdown",
      "source": [
        "    1\n",
        "    2 3\n",
        "    4 5 6\n",
        "    7 8 9 10\n",
        "    11 12 13 14"
      ],
      "metadata": {
        "id": "MbdtSp4qmU7i"
      }
    },
    {
      "cell_type": "code",
      "source": [
        "def ascending_numbers(size: int) -> list[int]:\n",
        "    curr_num = 1\n",
        "    result = ''\n",
        "    CRLF = '\\n'\n",
        "    for line in range(size):\n",
        "        for num in range(line + 1):\n",
        "            result += f'{curr_num: 3d}'\n",
        "            curr_num += 1\n",
        "        result += CRLF\n",
        "    return result\n",
        "\n",
        "print(ascending_numbers(5))\n",
        "print(ascending_numbers(12))"
      ],
      "metadata": {
        "id": "8x9oURvXm8rh",
        "colab": {
          "base_uri": "https://localhost:8080/"
        },
        "outputId": "6b4d4a64-f706-4bd1-a703-3fafcaef5d9f"
      },
      "execution_count": null,
      "outputs": [
        {
          "output_type": "stream",
          "name": "stdout",
          "text": [
            "  1\n",
            "  2  3\n",
            "  4  5  6\n",
            "  7  8  9 10\n",
            " 11 12 13 14 15\n",
            "\n",
            "  1\n",
            "  2  3\n",
            "  4  5  6\n",
            "  7  8  9 10\n",
            " 11 12 13 14 15\n",
            " 16 17 18 19 20 21\n",
            " 22 23 24 25 26 27 28\n",
            " 29 30 31 32 33 34 35 36\n",
            " 37 38 39 40 41 42 43 44 45\n",
            " 46 47 48 49 50 51 52 53 54 55\n",
            " 56 57 58 59 60 61 62 63 64 65 66\n",
            " 67 68 69 70 71 72 73 74 75 76 77 78\n",
            "\n"
          ]
        }
      ]
    },
    {
      "cell_type": "markdown",
      "source": [
        "Print a spiral numerical pattern\n",
        "\n",
        "> Add blockquote\n",
        "\n",
        "\n",
        "\n",
        "    7 8 9\n",
        "    6 1 2\n",
        "    5 4 3"
      ],
      "metadata": {
        "id": "56AYia9qm-Dv"
      }
    }
  ]
}