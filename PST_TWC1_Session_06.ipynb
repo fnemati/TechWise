{
  "nbformat": 4,
  "nbformat_minor": 0,
  "metadata": {
    "colab": {
      "provenance": [],
      "include_colab_link": true
    },
    "kernelspec": {
      "name": "python3",
      "display_name": "Python 3"
    },
    "language_info": {
      "name": "python"
    }
  },
  "cells": [
    {
      "cell_type": "markdown",
      "metadata": {
        "id": "view-in-github",
        "colab_type": "text"
      },
      "source": [
        "<a href=\"https://colab.research.google.com/github/fnemati/TechWise/blob/main/PST_TWC1_Session_06.ipynb\" target=\"_parent\"><img src=\"https://colab.research.google.com/assets/colab-badge.svg\" alt=\"Open In Colab\"/></a>"
      ]
    },
    {
      "cell_type": "markdown",
      "source": [
        "#Session 06\n",
        "\n",
        "##**Recursion**\n",
        "##Problem set\n",
        "\n",
        "* number of digits\n",
        "* is_ascending()\n",
        "* is_power_of2()\n",
        "* is_palindrome()\n",
        "* Collatz sequence\n",
        "* Assignment:\n",
        "\n",
        "     - Kaprekar sequence\n",
        "     - write len() and sum()\n",
        "\n",
        "\n",
        "\n"
      ],
      "metadata": {
        "id": "age6Y7DdHbu9"
      }
    },
    {
      "cell_type": "markdown",
      "source": [
        "#  Problem 1\n",
        "\n",
        "##Number of digits\n",
        "\n"
      ],
      "metadata": {
        "id": "g3ITdAJ2Ii6G"
      }
    },
    {
      "cell_type": "code",
      "source": [
        "def ndigits(n: int) -> int:\n",
        "    if n < 0:\n",
        "        return ndigits(abs(n))\n",
        "    if n < 10:\n",
        "        return 1\n",
        "    return 1 + ndigits(n // 10)"
      ],
      "metadata": {
        "id": "tw0OxmvpqKe4"
      },
      "execution_count": null,
      "outputs": []
    },
    {
      "cell_type": "code",
      "source": [
        "print(ndigits(5))\n",
        "print(ndigits(25))\n",
        "print(ndigits(534234))\n",
        "print(ndigits(-23))"
      ],
      "metadata": {
        "colab": {
          "base_uri": "https://localhost:8080/"
        },
        "id": "qO786PUrs1TC",
        "outputId": "03eb569a-bb16-422b-9ca1-cabbe9b08f43"
      },
      "execution_count": null,
      "outputs": [
        {
          "output_type": "stream",
          "name": "stdout",
          "text": [
            "1\n",
            "2\n",
            "6\n",
            "2\n"
          ]
        }
      ]
    },
    {
      "cell_type": "markdown",
      "source": [
        "## Problem 2\n",
        "Verify if the digits of a number are in ascending order"
      ],
      "metadata": {
        "id": "dk-IxDJqSNp8"
      }
    },
    {
      "cell_type": "code",
      "source": [
        "# a function to check if the digits of a number are in strict ascending order\n",
        "# 1568 -> True, 1666 -> False, 9056 -> False\n",
        "def is_ascending(n: int) -> bool:\n",
        "    if n < 10:\n",
        "        return True\n",
        "    if n % 10 <= (n // 10) % 10:\n",
        "        return False\n",
        "    return is_ascending(n // 10)\n",
        "\n",
        "print(is_ascending(1568))\n",
        "print(is_ascending(1666))\n",
        "print(is_ascending(9056))"
      ],
      "metadata": {
        "id": "8w7P4U57qMAT",
        "colab": {
          "base_uri": "https://localhost:8080/"
        },
        "outputId": "a49820b8-02ad-4f27-c5a9-da8fd6143866"
      },
      "execution_count": null,
      "outputs": [
        {
          "output_type": "stream",
          "name": "stdout",
          "text": [
            "True\n",
            "False\n",
            "False\n"
          ]
        }
      ]
    },
    {
      "cell_type": "markdown",
      "source": [],
      "metadata": {
        "id": "AeqdeBLYW045"
      }
    },
    {
      "cell_type": "markdown",
      "source": [
        "#Problem 3\n",
        "## Check if the given number is power of 2\n",
        "\n",
        "* Implement a function to check wheather the given number is power of 2 or not.\n",
        "\n",
        "**Example**\n",
        "\n",
        "- is_power_of2(10) -> False\n",
        "- is_power_of2(32) -> True\n"
      ],
      "metadata": {
        "id": "ayq8AbrPgeW_"
      }
    },
    {
      "cell_type": "code",
      "source": [
        "def is_power_of2(n: int) -> bool:\n",
        "    if n <= 0:\n",
        "        return False\n",
        "    if n == 1:\n",
        "        return True\n",
        "    elif n % 2 == 1:\n",
        "        return False\n",
        "    else:\n",
        "        return is_power_of2(n//2)\n",
        "\n",
        "is_power_of2(1024)"
      ],
      "metadata": {
        "id": "vXpjrSzNqNsm"
      },
      "execution_count": null,
      "outputs": []
    },
    {
      "cell_type": "markdown",
      "source": [
        "##Problem 4\n",
        "#Check if the given number is palindrome\n",
        "\n",
        "A palindrome number is a number whose reverse is same with the original number.\n",
        "\n",
        "**examples**\n",
        "\n",
        "-is_Palindrome(1567651) -> True\n",
        "\n",
        "-is_Palindrome(1000) -> False\n",
        "\n",
        "\n",
        "\n",
        "\n"
      ],
      "metadata": {
        "id": "lTy6yffNwHdP"
      }
    },
    {
      "cell_type": "code",
      "source": [
        "def is_palindrome(n: int) -> bool:\n",
        "    is_palindrome_str(str(n))\n",
        "\n",
        "def is_palindrome_str(s: str) -> bool:\n"
      ],
      "metadata": {
        "id": "n62NG1MeK_6T"
      },
      "execution_count": null,
      "outputs": []
    },
    {
      "cell_type": "markdown",
      "source": [
        "#Problem 5\n",
        "\n",
        "## Collatz sequence\n",
        "\n",
        "Suppose there is a positive integer n. Then the next term of the collatz sequence will be as follows:\n",
        "\n",
        "   * If the previous term is even, the next term is half of the previous term, i.e., n/2\n",
        "   * If the previous term is odd, the next term is 3 times the previous term plus 1, i.e., 3n+1\n",
        "   * The sequence will always end at 1.\n",
        "\n",
        "   \n",
        "**Example**\n",
        "\n",
        "Input : 3\n",
        "\n",
        "Output : 3, 10, 5, 16, 8, 4, 2, 1       \n",
        "\n",
        "Input : 6\n",
        "\n",
        "Output : 6, 3, 10, 5, 16, 8, 4, 2, 1"
      ],
      "metadata": {
        "id": "JSdhjwGMTr7n"
      }
    },
    {
      "cell_type": "code",
      "source": [],
      "metadata": {
        "id": "zCWGkoEWqRwP"
      },
      "execution_count": null,
      "outputs": []
    },
    {
      "cell_type": "markdown",
      "source": [
        "#Assignments"
      ],
      "metadata": {
        "id": "O1g-OzxrqCYy"
      }
    },
    {
      "cell_type": "markdown",
      "source": [
        "##Assignment - 06-01\n",
        "\n",
        "Rewrite Kaprekar sequence generation recursively\n",
        "\n",
        "\n"
      ],
      "metadata": {
        "id": "g-_dNVp_sHE-"
      }
    },
    {
      "cell_type": "code",
      "source": [
        "def kaprekar_sequence(n: int)->[int]:\n",
        "  #Write your code here\n",
        "  return"
      ],
      "metadata": {
        "id": "rJgMu5GLsXyx"
      },
      "execution_count": null,
      "outputs": []
    },
    {
      "cell_type": "markdown",
      "source": [
        "\n",
        "## Assignment 06-02, 06-03\n",
        "Can you write your own len(), sum() functions?"
      ],
      "metadata": {
        "id": "45MvQmYdRV4a"
      }
    }
  ]
}