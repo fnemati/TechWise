{
  "nbformat": 4,
  "nbformat_minor": 0,
  "metadata": {
    "colab": {
      "provenance": [],
      "include_colab_link": true
    },
    "kernelspec": {
      "name": "python3",
      "display_name": "Python 3"
    },
    "language_info": {
      "name": "python"
    }
  },
  "cells": [
    {
      "cell_type": "markdown",
      "metadata": {
        "id": "view-in-github",
        "colab_type": "text"
      },
      "source": [
        "<a href=\"https://colab.research.google.com/github/fnemati/TechWise/blob/main/PST_TWC1_Session_09.ipynb\" target=\"_parent\"><img src=\"https://colab.research.google.com/assets/colab-badge.svg\" alt=\"Open In Colab\"/></a>"
      ]
    },
    {
      "cell_type": "markdown",
      "source": [
        "Coverage\n",
        "\n",
        "    * Printing number pyramids\n",
        "\n",
        "Print\n",
        "\n",
        "    1\n",
        "    2  2\n",
        "    3  3  3\n",
        "    4  4  4  4\n",
        "the number of lines aka last line value is a parameter"
      ],
      "metadata": {
        "id": "xKaYjHr0Ii1m"
      }
    },
    {
      "cell_type": "code",
      "source": [
        "LIMIT = 11\n",
        "def print_pyramid(n: int) -> None:\n",
        "    for i in range(1, n + 1):\n",
        "        for j in range(1, i + 1):\n",
        "            print(i, \" \", sep=\"\", end=\"\")\n",
        "        print()\n",
        "\n",
        "print_pyramid(LIMIT)"
      ],
      "metadata": {
        "id": "4y1ejgeDuf1C",
        "colab": {
          "base_uri": "https://localhost:8080/"
        },
        "outputId": "b7b1d04c-a2d3-4efd-b5c4-7fe20072527a"
      },
      "execution_count": null,
      "outputs": [
        {
          "output_type": "stream",
          "name": "stdout",
          "text": [
            "1 \n",
            "2 2 \n",
            "3 3 3 \n",
            "4 4 4 4 \n",
            "5 5 5 5 5 \n",
            "6 6 6 6 6 6 \n",
            "7 7 7 7 7 7 7 \n",
            "8 8 8 8 8 8 8 8 \n",
            "9 9 9 9 9 9 9 9 9 \n",
            "10 10 10 10 10 10 10 10 10 10 \n",
            "11 11 11 11 11 11 11 11 11 11 11 \n"
          ]
        }
      ]
    },
    {
      "cell_type": "code",
      "source": [
        "\"hello\" * 3"
      ],
      "metadata": {
        "colab": {
          "base_uri": "https://localhost:8080/",
          "height": 35
        },
        "id": "-oxFiOGouztO",
        "outputId": "b22ad5ca-8f4c-4b2b-ce50-8ff93537669f"
      },
      "execution_count": null,
      "outputs": [
        {
          "output_type": "execute_result",
          "data": {
            "text/plain": [
              "'hellohellohello'"
            ],
            "application/vnd.google.colaboratory.intrinsic+json": {
              "type": "string"
            }
          },
          "metadata": {},
          "execution_count": 5
        }
      ]
    },
    {
      "cell_type": "markdown",
      "source": [],
      "metadata": {
        "id": "jiHUoOCGugMx"
      }
    },
    {
      "cell_type": "code",
      "source": [
        "LIMIT = 11\n",
        "def print_pyramid(n: int) -> None:\n",
        "    width = len(str(n)) + 1\n",
        "    for i in range(1, n + 1):\n",
        "        print(f'{i:3d}' * i)\n",
        "print_pyramid(LIMIT)"
      ],
      "metadata": {
        "id": "NtkpKZu3ugey",
        "colab": {
          "base_uri": "https://localhost:8080/"
        },
        "outputId": "a1a5cd30-e362-48e6-8bd0-efa3c2178043"
      },
      "execution_count": null,
      "outputs": [
        {
          "output_type": "stream",
          "name": "stdout",
          "text": [
            "  1\n",
            "  2  2\n",
            "  3  3  3\n",
            "  4  4  4  4\n",
            "  5  5  5  5  5\n",
            "  6  6  6  6  6  6\n",
            "  7  7  7  7  7  7  7\n",
            "  8  8  8  8  8  8  8  8\n",
            "  9  9  9  9  9  9  9  9  9\n",
            " 10 10 10 10 10 10 10 10 10 10\n",
            " 11 11 11 11 11 11 11 11 11 11 11\n"
          ]
        }
      ]
    },
    {
      "cell_type": "code",
      "source": [
        "LIMIT = 11\n",
        "def make_pyramid(n: int) -> None:\n",
        "    pyramid = []\n",
        "    for i in range(1, n + 1):\n",
        "        pyramid.append(f'{i:3d}' * i)\n",
        "    return pyramid\n",
        "print('\\n'.join(make_pyramid(LIMIT)))"
      ],
      "metadata": {
        "colab": {
          "base_uri": "https://localhost:8080/"
        },
        "id": "VlAmw3Sl6j3G",
        "outputId": "f304c74e-6b97-4207-e17d-73464fecfcc6"
      },
      "execution_count": null,
      "outputs": [
        {
          "output_type": "stream",
          "name": "stdout",
          "text": [
            "  1\n",
            "  2  2\n",
            "  3  3  3\n",
            "  4  4  4  4\n",
            "  5  5  5  5  5\n",
            "  6  6  6  6  6  6\n",
            "  7  7  7  7  7  7  7\n",
            "  8  8  8  8  8  8  8  8\n",
            "  9  9  9  9  9  9  9  9  9\n",
            " 10 10 10 10 10 10 10 10 10 10\n",
            " 11 11 11 11 11 11 11 11 11 11 11\n"
          ]
        }
      ]
    },
    {
      "cell_type": "code",
      "source": [
        "import os\n",
        "CRLF = os.linesep\n",
        "\n",
        "def line(line_num: int) -> str:\n",
        "    return f'{line_num:3d}' * line_num\n",
        "\n",
        "def make_pyramid(n: int) -> str:\n",
        "    pyramid = []\n",
        "    for i in range(1, n + 1):\n",
        "        pyramid.append(line(i))\n",
        "    return pyramid\n",
        "\n",
        "def format_pyramid(pyramid: list[str]) -> str:\n",
        "    return CRLF.join(pyramid)\n",
        "\n",
        "print(format_pyramid(make_pyramid(11)))"
      ],
      "metadata": {
        "colab": {
          "base_uri": "https://localhost:8080/"
        },
        "id": "pmpt84Sj7dlp",
        "outputId": "774105cc-9c80-496f-e50b-4e4640d1bb5b"
      },
      "execution_count": null,
      "outputs": [
        {
          "output_type": "stream",
          "name": "stdout",
          "text": [
            "  1\n",
            "  2  2\n",
            "  3  3  3\n",
            "  4  4  4  4\n",
            "  5  5  5  5  5\n",
            "  6  6  6  6  6  6\n",
            "  7  7  7  7  7  7  7\n",
            "  8  8  8  8  8  8  8  8\n",
            "  9  9  9  9  9  9  9  9  9\n",
            " 10 10 10 10 10 10 10 10 10 10\n",
            " 11 11 11 11 11 11 11 11 11 11 11\n"
          ]
        }
      ]
    },
    {
      "cell_type": "code",
      "source": [
        "line(7)"
      ],
      "metadata": {
        "colab": {
          "base_uri": "https://localhost:8080/",
          "height": 35
        },
        "id": "Aq_e1ew8888c",
        "outputId": "09cd2942-4ecc-4d3f-b117-66297155c5b4"
      },
      "execution_count": null,
      "outputs": [
        {
          "output_type": "execute_result",
          "data": {
            "text/plain": [
              "'  7  7  7  7  7  7  7'"
            ],
            "application/vnd.google.colaboratory.intrinsic+json": {
              "type": "string"
            }
          },
          "metadata": {},
          "execution_count": 39
        }
      ]
    },
    {
      "cell_type": "code",
      "source": [
        "import os\n",
        "print(repr(os.linesep))"
      ],
      "metadata": {
        "colab": {
          "base_uri": "https://localhost:8080/"
        },
        "id": "7kKj1t908RbL",
        "outputId": "c717cd70-126e-4f57-a3b8-387163ac282a"
      },
      "execution_count": null,
      "outputs": [
        {
          "output_type": "stream",
          "name": "stdout",
          "text": [
            "'\\n'\n"
          ]
        }
      ]
    },
    {
      "cell_type": "markdown",
      "source": [
        "## Problem 2\n",
        "print the pyramid\n",
        "\n",
        "  1\n",
        "\n",
        "  2  4\n",
        "\n",
        "  3  6  9\n",
        "\n",
        "  4  8 12 16\n",
        "\n",
        "  5 10 15 20 25\n",
        "\n"
      ],
      "metadata": {
        "id": "pHqNxCL6BOSe"
      }
    },
    {
      "cell_type": "code",
      "source": [
        "def item(a: int, b: int) -> str:\n",
        "    return f'{a * b: <4d}'\n",
        "\n",
        "'''def line(line_num: int) -> [str]:\n",
        "    return [item(i, line_num ) for i in range(1, line_num + 1)]'''\n",
        "\n",
        "\n",
        "def line(line_num: int) -> list[str]:\n",
        "    line_seq = []\n",
        "    for i in range(1, line_num + 1):\n",
        "        line_seq += [item(i, line_num)]\n",
        "    return line_seq\n",
        "\n",
        "def formatted_line(line_num: int) -> str:\n",
        "    return ''.join(line(line_num))\n",
        "\n",
        "def make_pyramid(lines: int) -> list[str]:\n",
        "    pyramid = []\n",
        "    for i in range(1, lines + 1):\n",
        "        pyramid.append(formatted_line(i))\n",
        "    return pyramid\n",
        "\n",
        "def formatted_pyramid(lines: int) -> str:\n",
        "    return CRLF.join(make_pyramid(lines))\n"
      ],
      "metadata": {
        "id": "veTidkQ9uhMN"
      },
      "execution_count": null,
      "outputs": []
    },
    {
      "cell_type": "code",
      "source": [
        "line(7)"
      ],
      "metadata": {
        "colab": {
          "base_uri": "https://localhost:8080/"
        },
        "id": "IqY_zcgVDjro",
        "outputId": "3984a220-d242-43ee-db7d-f3c56a529683"
      },
      "execution_count": null,
      "outputs": [
        {
          "output_type": "execute_result",
          "data": {
            "text/plain": [
              "['7   ', '14  ', '21  ', '28  ', '35  ', '42  ', '49  ']"
            ]
          },
          "metadata": {},
          "execution_count": 42
        }
      ]
    },
    {
      "cell_type": "code",
      "source": [
        "formatted_line(7)"
      ],
      "metadata": {
        "colab": {
          "base_uri": "https://localhost:8080/",
          "height": 35
        },
        "id": "51x8HURaDlU2",
        "outputId": "76ed11aa-024b-4989-d045-0b1df07966ed"
      },
      "execution_count": null,
      "outputs": [
        {
          "output_type": "execute_result",
          "data": {
            "text/plain": [
              "'7   14  21  28  35  42  49  '"
            ],
            "application/vnd.google.colaboratory.intrinsic+json": {
              "type": "string"
            }
          },
          "metadata": {},
          "execution_count": 43
        }
      ]
    },
    {
      "cell_type": "code",
      "source": [
        "make_pyramid(7)"
      ],
      "metadata": {
        "colab": {
          "base_uri": "https://localhost:8080/"
        },
        "id": "2SdhuD4BD2yD",
        "outputId": "b65296de-6f6b-440d-da92-46e2cfc3bdea"
      },
      "execution_count": null,
      "outputs": [
        {
          "output_type": "execute_result",
          "data": {
            "text/plain": [
              "['1   ',\n",
              " '2   4   ',\n",
              " '3   6   9   ',\n",
              " '4   8   12  16  ',\n",
              " '5   10  15  20  25  ',\n",
              " '6   12  18  24  30  36  ',\n",
              " '7   14  21  28  35  42  49  ']"
            ]
          },
          "metadata": {},
          "execution_count": 44
        }
      ]
    },
    {
      "cell_type": "code",
      "source": [
        "print(formatted_pyramid(7))"
      ],
      "metadata": {
        "colab": {
          "base_uri": "https://localhost:8080/"
        },
        "id": "z-kSu3oeD5bx",
        "outputId": "4825f12d-0679-474d-9825-5d309b7122b6"
      },
      "execution_count": null,
      "outputs": [
        {
          "output_type": "stream",
          "name": "stdout",
          "text": [
            "1   \n",
            "2   4   \n",
            "3   6   9   \n",
            "4   8   12  16  \n",
            "5   10  15  20  25  \n",
            "6   12  18  24  30  36  \n",
            "7   14  21  28  35  42  49  \n"
          ]
        }
      ]
    },
    {
      "cell_type": "code",
      "source": [],
      "metadata": {
        "id": "MHkY_BsDD7vu"
      },
      "execution_count": null,
      "outputs": []
    }
  ]
}