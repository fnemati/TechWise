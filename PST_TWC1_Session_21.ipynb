{
  "nbformat": 4,
  "nbformat_minor": 0,
  "metadata": {
    "colab": {
      "provenance": [],
      "include_colab_link": true
    },
    "kernelspec": {
      "name": "python3",
      "display_name": "Python 3"
    },
    "language_info": {
      "name": "python"
    }
  },
  "cells": [
    {
      "cell_type": "markdown",
      "metadata": {
        "id": "view-in-github",
        "colab_type": "text"
      },
      "source": [
        "<a href=\"https://colab.research.google.com/github/fnemati/TechWise/blob/main/PST_TWC1_Session_21.ipynb\" target=\"_parent\"><img src=\"https://colab.research.google.com/assets/colab-badge.svg\" alt=\"Open In Colab\"/></a>"
      ]
    },
    {
      "cell_type": "markdown",
      "source": [
        "OH\n",
        "\n",
        "Fib:"
      ],
      "metadata": {
        "id": "1fYkDCuUB3ZC"
      }
    },
    {
      "cell_type": "markdown",
      "source": [
        "1, 1, 2, 3, 5, 8, 13, 21"
      ],
      "metadata": {
        "id": "VALghh61B7Nq"
      }
    },
    {
      "cell_type": "markdown",
      "source": [
        "100"
      ],
      "metadata": {
        "id": "BH3WKo54CZEZ"
      }
    },
    {
      "cell_type": "code",
      "execution_count": null,
      "metadata": {
        "id": "ba8GrVgmBtGR"
      },
      "outputs": [],
      "source": [
        "def fib(limit: int=100) -> list[int]:\n",
        "    fibs = [0,1]\n",
        "    for _ in range(2, limit):\n",
        "        fibs.append(fibs[-1] + fibs[-2])\n",
        "    return fibs"
      ]
    },
    {
      "cell_type": "code",
      "source": [
        "fib()"
      ],
      "metadata": {
        "colab": {
          "base_uri": "https://localhost:8080/"
        },
        "id": "l8pwYpZEC4iH",
        "outputId": "c76346ca-3cb7-4e31-b917-2cdfe6a1ab91"
      },
      "execution_count": null,
      "outputs": [
        {
          "output_type": "execute_result",
          "data": {
            "text/plain": [
              "[0,\n",
              " 1,\n",
              " 1,\n",
              " 2,\n",
              " 3,\n",
              " 5,\n",
              " 8,\n",
              " 13,\n",
              " 21,\n",
              " 34,\n",
              " 55,\n",
              " 89,\n",
              " 144,\n",
              " 233,\n",
              " 377,\n",
              " 610,\n",
              " 987,\n",
              " 1597,\n",
              " 2584,\n",
              " 4181,\n",
              " 6765,\n",
              " 10946,\n",
              " 17711,\n",
              " 28657,\n",
              " 46368,\n",
              " 75025,\n",
              " 121393,\n",
              " 196418,\n",
              " 317811,\n",
              " 514229,\n",
              " 832040,\n",
              " 1346269,\n",
              " 2178309,\n",
              " 3524578,\n",
              " 5702887,\n",
              " 9227465,\n",
              " 14930352,\n",
              " 24157817,\n",
              " 39088169,\n",
              " 63245986,\n",
              " 102334155,\n",
              " 165580141,\n",
              " 267914296,\n",
              " 433494437,\n",
              " 701408733,\n",
              " 1134903170,\n",
              " 1836311903,\n",
              " 2971215073,\n",
              " 4807526976,\n",
              " 7778742049,\n",
              " 12586269025,\n",
              " 20365011074,\n",
              " 32951280099,\n",
              " 53316291173,\n",
              " 86267571272,\n",
              " 139583862445,\n",
              " 225851433717,\n",
              " 365435296162,\n",
              " 591286729879,\n",
              " 956722026041,\n",
              " 1548008755920,\n",
              " 2504730781961,\n",
              " 4052739537881,\n",
              " 6557470319842,\n",
              " 10610209857723,\n",
              " 17167680177565,\n",
              " 27777890035288,\n",
              " 44945570212853,\n",
              " 72723460248141,\n",
              " 117669030460994,\n",
              " 190392490709135,\n",
              " 308061521170129,\n",
              " 498454011879264,\n",
              " 806515533049393,\n",
              " 1304969544928657,\n",
              " 2111485077978050,\n",
              " 3416454622906707,\n",
              " 5527939700884757,\n",
              " 8944394323791464,\n",
              " 14472334024676221,\n",
              " 23416728348467685,\n",
              " 37889062373143906,\n",
              " 61305790721611591,\n",
              " 99194853094755497,\n",
              " 160500643816367088,\n",
              " 259695496911122585,\n",
              " 420196140727489673,\n",
              " 679891637638612258,\n",
              " 1100087778366101931,\n",
              " 1779979416004714189,\n",
              " 2880067194370816120,\n",
              " 4660046610375530309,\n",
              " 7540113804746346429,\n",
              " 12200160415121876738,\n",
              " 19740274219868223167,\n",
              " 31940434634990099905,\n",
              " 51680708854858323072,\n",
              " 83621143489848422977,\n",
              " 135301852344706746049,\n",
              " 218922995834555169026]"
            ]
          },
          "metadata": {},
          "execution_count": 16
        }
      ]
    },
    {
      "cell_type": "code",
      "source": [
        "def fib(limit: int=100) -> list[int]:\n",
        "    seq = [0]\n",
        "    a = 0\n",
        "    b = 1\n",
        "    while b < limit - 1:\n",
        "        seq.append(b)\n",
        "        a, b = b, a + b\n",
        "        # temp = a + b\n",
        "        # a = b\n",
        "        # b = temp\n",
        "    return seq\n"
      ],
      "metadata": {
        "id": "xxcLiiPVEl-n"
      },
      "execution_count": null,
      "outputs": []
    },
    {
      "cell_type": "code",
      "source": [
        "fib()"
      ],
      "metadata": {
        "colab": {
          "base_uri": "https://localhost:8080/"
        },
        "id": "a_TLFLc06jpy",
        "outputId": "c25f41af-469f-47e2-e89e-37117c3a9d35"
      },
      "execution_count": null,
      "outputs": [
        {
          "output_type": "execute_result",
          "data": {
            "text/plain": [
              "[0, 1, 1, 2, 3, 5, 8, 13, 21, 34, 55, 89]"
            ]
          },
          "metadata": {},
          "execution_count": 14
        }
      ]
    },
    {
      "cell_type": "markdown",
      "source": [
        "# Assignment-03-03\n",
        "## Triangle Inequality Theorem\n",
        "\n",
        "\n",
        "The sum of the lengths of any two sides of a triangle is greater than the length of the third side.\n",
        "\n",
        "![triangle-inequality-theorem-image001.gif](data:image/gif;base64,R0lGODdhkQBkAIQAAP///z8/P5+fn39/fwAAAO/v78/Pz7+/vy8vL19fXx8fH9/f329vb6+vr4+Pj09PT////wAAAAAAAAAAAAAAAAAAAAAAAAAAAAAAAAAAAAAAAAAAAAAAAAAAAAAAAAAAACH5BAUIABAALAAAAACRAGQAQAX+ICCOZGmeaKqubOu+cCzPdG3feD4ixHIuvIFuSCzGGgRhbUBQ+IzQ6EyhkI4OCoLDyp0JEItFtcRsdF0JQuB5IhxECPMZulDPdUiC/G58EAx8ZwsBBAmBMAcEDIeMJw5Nb4c8bI2VLQZZSkOPW5aeOgwEYJ+kpaY1BwECAAirp6+wsY1UAFgErrK5M6F7Kwt+D5S6uQYED0UCkMOefsKCPIsvqsskDggiDpEiSNGxjwqA1DC04iiYWuUAnOk1oWukddfsUra9UWnh842/hTbFx/qGJVOgTd8DM3UCKlzIsCGsOsacOVxGbgSTURNz+cmHYmDBjJbWxbCFC+SdRN3+bABRZNJKPClpgrXUMekOE3AxFgwYkxGfJSQEWSRj0ACBJl1YUog0ZasTiQQBRCT4OO/fskEsQVZkl+ZdwJoOv3HUxWvmNgJ6YiE5apbEOaeVrLZtgdVQoK1zY4TCGKVZXh3fqC5J+xcKSRrcCs8Rk8QFAwSQI0ueTLmy5cuYM2vezLnz5pT6GgxoIFhxJQSL6rA1zbq169ewY8ueDWNASdqHQqXBiZuPyLq9zyQukcde8CHF7KLoKvE4jToAV7x1jkNUjMDUp/DMSUh5dhZgUaE1/p3ExiHumlMPVdpfpvLYblnBTj0ZXCn8vNMefjILeRUO6NeQXIzspV4JejDaANoyDTRwGwAveXLOaiU80ImC4rghAlV4eeLRCUiIIIY4Awi4AwGx8BPdhgo6cCAsCSCQgDCEvOjJYS2dR42BGZWVzkoUsrPUPB+GltVCKtp4SnIg4TgMdGZdpGQl1s210oKkdNhWkaSEZxowU0qh42tOBsIebjeNxcUjD8p25Rn2fQdUezjwV15MYbpAIHwbZnFfDRHyaUKaN2gp6AhYYdkCD4e2kAedJtTY6AvMseCHAp5lqummnHaaaRboTCrqqDfMWAykpLbgwBgORJXqDQHEwSaqr9ZqawgAOw==)\n",
        "\n",
        "In the figure, the following inequalities hold.\n",
        "\n",
        "a + b > c\n",
        "\n",
        "a + c > b\n",
        "\n",
        "b + c > a\n",
        "\n",
        "\n",
        "* Example 01:\n",
        "\n",
        "Check whether it is possible to have a triangle with the given side lengths.\n",
        "\n",
        "7,9,13\n",
        "\n",
        "\n",
        "* Explanation:\n",
        "\n",
        "Add any two sides and see if it is greater than the other side.\n",
        "\n",
        "The sum of 7 and 9 is 16 and 16 is greater than 13 .\n",
        "\n",
        "The sum of 9 and 13 is 21 and 21 is greater than 7 .\n",
        "\n",
        "The sum of 7 and 13 is 20 and 20 is greater than 9 .\n",
        "\n",
        "This set of side lengths satisfies the Triangle Inequality Theorem.\n",
        "\n",
        "These lengths do form a triangle.\n",
        "\n",
        "\n",
        "* Example 02:\n",
        "\n",
        "Check whether the given side lengths form a triangle.\n",
        "\n",
        "4,8,15\n",
        "\n",
        "* Explanation:\n",
        "\n",
        "Add any two sides and see if it is greater than the other side.\n",
        "\n",
        "The sum of 4 and 8 is 12 and 12 is less than 15 .\n",
        "\n",
        "This set of side lengths does not satisfy Triangle Inequality Theorem.\n",
        "\n",
        "These lengths do not form a triangle\n"
      ],
      "metadata": {
        "id": "efYaCStcMUjJ"
      }
    },
    {
      "cell_type": "code",
      "source": [
        "# NOT READABLE\n",
        "\n",
        "def is_valid_triangle(side_a: int, side_b: int, side_c: int) -> bool:\n",
        "    check_1 = side_a + side_b > side_c\n",
        "    check_2 = side_b + side_c > side_a\n",
        "    check_3 = side_a + side_c > side_b\n",
        "    if check_1 and check_2 and check_3:\n",
        "        return True\n",
        "    else:\n",
        "        return False\n"
      ],
      "metadata": {
        "id": "pJRxaFoe5Uvt"
      },
      "execution_count": null,
      "outputs": []
    },
    {
      "cell_type": "code",
      "source": [
        "# MUCH BETTER\n",
        "\n",
        "def is_valid_triangle(a: int, b: int, c: int) -> bool:\n",
        "    return a + b > c and b + c > a and a + c > b\n"
      ],
      "metadata": {
        "id": "ZLx0828i_gnn"
      },
      "execution_count": null,
      "outputs": []
    },
    {
      "cell_type": "code",
      "source": [
        "print(is_valid_triangle(7, 9, 13))\n",
        "print(is_valid_triangle(4, 8, 15))"
      ],
      "metadata": {
        "colab": {
          "base_uri": "https://localhost:8080/"
        },
        "id": "DUUoGv1E_JGa",
        "outputId": "3c5a02a7-a695-4544-9199-f06adf9a4df9"
      },
      "execution_count": null,
      "outputs": [
        {
          "output_type": "stream",
          "name": "stdout",
          "text": [
            "True\n",
            "False\n"
          ]
        }
      ]
    },
    {
      "cell_type": "code",
      "source": [
        "True and True"
      ],
      "metadata": {
        "colab": {
          "base_uri": "https://localhost:8080/"
        },
        "id": "R6c_YDBR-WN6",
        "outputId": "ec9bdcf8-d6ba-4978-80ab-38b9eeb5f80f"
      },
      "execution_count": null,
      "outputs": [
        {
          "output_type": "execute_result",
          "data": {
            "text/plain": [
              "True"
            ]
          },
          "metadata": {},
          "execution_count": 17
        }
      ]
    },
    {
      "cell_type": "code",
      "source": [
        "True and False"
      ],
      "metadata": {
        "colab": {
          "base_uri": "https://localhost:8080/"
        },
        "id": "wVTACAUb-joU",
        "outputId": "dfc63adb-2c0a-4eb5-d084-ac3c27285047"
      },
      "execution_count": null,
      "outputs": [
        {
          "output_type": "execute_result",
          "data": {
            "text/plain": [
              "False"
            ]
          },
          "metadata": {},
          "execution_count": 18
        }
      ]
    },
    {
      "cell_type": "code",
      "source": [
        "True and True and True"
      ],
      "metadata": {
        "colab": {
          "base_uri": "https://localhost:8080/"
        },
        "id": "-nBq-r3u-mRZ",
        "outputId": "fcd33a84-84af-4624-a2d7-6d14e8abf4ef"
      },
      "execution_count": null,
      "outputs": [
        {
          "output_type": "execute_result",
          "data": {
            "text/plain": [
              "True"
            ]
          },
          "metadata": {},
          "execution_count": 19
        }
      ]
    },
    {
      "cell_type": "code",
      "source": [
        "True and False and True"
      ],
      "metadata": {
        "colab": {
          "base_uri": "https://localhost:8080/"
        },
        "id": "-i8TS8L9-p-i",
        "outputId": "7fbd1595-851d-4dfd-aad4-f75046eb199a"
      },
      "execution_count": null,
      "outputs": [
        {
          "output_type": "execute_result",
          "data": {
            "text/plain": [
              "False"
            ]
          },
          "metadata": {},
          "execution_count": 20
        }
      ]
    },
    {
      "cell_type": "code",
      "source": [
        "True and True and False"
      ],
      "metadata": {
        "colab": {
          "base_uri": "https://localhost:8080/"
        },
        "id": "GFA3nZu--sf-",
        "outputId": "56d47f15-aa4b-42b6-a667-c151bb3a53f2"
      },
      "execution_count": null,
      "outputs": [
        {
          "output_type": "execute_result",
          "data": {
            "text/plain": [
              "False"
            ]
          },
          "metadata": {},
          "execution_count": 21
        }
      ]
    },
    {
      "cell_type": "markdown",
      "source": [
        "## Assignment 04-02\n",
        "\n",
        "1. Start with any number. (For practice try small numbers) say 7\n",
        "2. if it is even divide by 2, if it is odd multiply by 3 and add 1\n",
        "3. Repeat\n",
        "\n",
        "4. This process reaches at ...4, 2, 1 and then starts repeating\n",
        "\n",
        "Write a function that generates the sequence ending in 4, 2, 1 for the given starting number\n",
        "\n",
        "For example $7$ should generate $[7, 22, 11, 34, 17, 52, 26, 13, 40, 20, 10, 5, 16, 8, 4, 2, 1]$"
      ],
      "metadata": {
        "id": "UZFimAJQQ5SU"
      }
    },
    {
      "cell_type": "code",
      "source": [
        "def collatz_sequence(k: int) -> list[int]:\n",
        "    seq = []\n",
        "    while k != 4:\n",
        "        seq.append(k)\n",
        "        k = next_collatz(k)\n",
        "    seq.extend([4, 2, 1])\n",
        "    return seq"
      ],
      "metadata": {
        "id": "DbhHlR-1Umnv"
      },
      "execution_count": null,
      "outputs": []
    },
    {
      "cell_type": "code",
      "source": [
        "# THIS WORKS\n",
        "\n",
        "def next_collatz(n: int) -> int:\n",
        "    if n % 2 == 0:\n",
        "        return n // 2\n",
        "    else:\n",
        "        return (n * 3) + 1"
      ],
      "metadata": {
        "id": "sx5cTuufCGN8"
      },
      "execution_count": null,
      "outputs": []
    },
    {
      "cell_type": "code",
      "source": [
        "# THIS IS CLEANER / MORE PYTHONIC\n",
        "def next_collatz(n: int) -> int:\n",
        "    return n // 2 if n%2 == 0 else (n * 3) + 1"
      ],
      "metadata": {
        "id": "zwK4e5UZCkcT"
      },
      "execution_count": null,
      "outputs": []
    },
    {
      "cell_type": "code",
      "source": [
        "next_collatz(11)"
      ],
      "metadata": {
        "colab": {
          "base_uri": "https://localhost:8080/"
        },
        "id": "H4YpZmPvCXW1",
        "outputId": "27a9d3ab-6ce4-4d4b-fde8-e18b7308fc04"
      },
      "execution_count": null,
      "outputs": [
        {
          "output_type": "execute_result",
          "data": {
            "text/plain": [
              "34"
            ]
          },
          "metadata": {},
          "execution_count": 37
        }
      ]
    },
    {
      "cell_type": "code",
      "source": [
        "collatz_sequence(7)"
      ],
      "metadata": {
        "colab": {
          "base_uri": "https://localhost:8080/"
        },
        "id": "2FomFjCBDk--",
        "outputId": "5ed08988-ec5a-46b6-edb7-d2056745b0e2"
      },
      "execution_count": null,
      "outputs": [
        {
          "output_type": "execute_result",
          "data": {
            "text/plain": [
              "[7, 22, 11, 34, 17, 52, 26, 13, 40, 20, 10, 5, 16, 8, 4, 2, 1]"
            ]
          },
          "metadata": {},
          "execution_count": 40
        }
      ]
    },
    {
      "cell_type": "markdown",
      "source": [
        "##Assignment 05-03\n",
        "\n",
        "Write a function that classifies given list of numbers into **Even** and **Odd** Sublists."
      ],
      "metadata": {
        "id": "VJwvBGFrWPIC"
      }
    },
    {
      "cell_type": "code",
      "source": [
        "def split_Even_Odd_Sublists(nums: list[int]) -> tuple[list[int], list[int]]:\n",
        "    evens = []\n",
        "    odds = []\n",
        "    for num in nums:\n",
        "        if num % 2 == 0:\n",
        "            evens.append(num)\n",
        "        else:\n",
        "            odds.append(num)\n",
        "    return evens, odds\n"
      ],
      "metadata": {
        "id": "OaABdrDVf6KR"
      },
      "execution_count": null,
      "outputs": []
    },
    {
      "cell_type": "code",
      "source": [
        "print(split_Even_Odd_Sublists([1, 2, 3, 6, 5, 4]))"
      ],
      "metadata": {
        "colab": {
          "base_uri": "https://localhost:8080/"
        },
        "id": "3Cn8b-z0Gdo2",
        "outputId": "ba831824-4385-4d4b-a26c-55dcefb67040"
      },
      "execution_count": null,
      "outputs": [
        {
          "output_type": "stream",
          "name": "stdout",
          "text": [
            "([2, 4, 6], [1, 3, 5])\n"
          ]
        }
      ]
    },
    {
      "cell_type": "code",
      "source": [
        "num_array = [2,4,6,8,1,3,5,7,9,11,12,14,15,21]\n",
        "print(split_Even_Odd_Sublists(num_array))"
      ],
      "metadata": {
        "colab": {
          "base_uri": "https://localhost:8080/"
        },
        "id": "tRbpF9UyGxRo",
        "outputId": "60e40440-d166-4a13-b32c-b73c9a222db4"
      },
      "execution_count": null,
      "outputs": [
        {
          "output_type": "stream",
          "name": "stdout",
          "text": [
            "([2, 4, 6, 8, 12, 14], [1, 3, 5, 7, 9, 11, 15, 21])\n"
          ]
        }
      ]
    },
    {
      "cell_type": "code",
      "source": [
        "4 % 2"
      ],
      "metadata": {
        "colab": {
          "base_uri": "https://localhost:8080/"
        },
        "id": "vUo78dHTFleh",
        "outputId": "420dc568-8ae7-4ec3-d4a0-726d98eaf018"
      },
      "execution_count": null,
      "outputs": [
        {
          "output_type": "execute_result",
          "data": {
            "text/plain": [
              "0"
            ]
          },
          "metadata": {},
          "execution_count": 51
        }
      ]
    },
    {
      "cell_type": "code",
      "source": [
        "num = 3\n",
        "print(num % 2 == 1)\n",
        "print(num % 2 != 0)"
      ],
      "metadata": {
        "colab": {
          "base_uri": "https://localhost:8080/"
        },
        "id": "tOvD7Zr6GHEo",
        "outputId": "edef5a94-6ca4-4e65-a30f-d1c93333cb2a"
      },
      "execution_count": null,
      "outputs": [
        {
          "output_type": "stream",
          "name": "stdout",
          "text": [
            "True\n",
            "True\n"
          ]
        }
      ]
    },
    {
      "cell_type": "code",
      "source": [
        "6 % 3"
      ],
      "metadata": {
        "colab": {
          "base_uri": "https://localhost:8080/"
        },
        "id": "d4nnYFNEF4WX",
        "outputId": "7784de10-2227-4c2c-8db1-654f2726eb74"
      },
      "execution_count": null,
      "outputs": [
        {
          "output_type": "execute_result",
          "data": {
            "text/plain": [
              "0"
            ]
          },
          "metadata": {},
          "execution_count": 50
        }
      ]
    },
    {
      "cell_type": "code",
      "source": [
        "# MAYBE DONKEY VARIABLES\n",
        "\n",
        "def split_Even_Odd_Sublists(nums: list[int]) -> tuple[list[int], list[int]]:\n",
        "    evens = list(filter(lambda x: x%2 == 0, nums))\n",
        "    odds = list(filter(lambda x: x%2 == 1, nums))\n",
        "    return evens, odds"
      ],
      "metadata": {
        "id": "oeGCFuk8GB3J"
      },
      "execution_count": null,
      "outputs": []
    },
    {
      "cell_type": "code",
      "source": [
        "# BETTER ?\n",
        "\n",
        "def split_Even_Odd_Sublists(nums: list[int]) -> tuple[list[int], list[int]]:\n",
        "    return list(filter(lambda x: x%2 == 0, nums)), list(filter(lambda x: x%2 == 1, nums))"
      ],
      "metadata": {
        "id": "JquRCK56NrQ5"
      },
      "execution_count": null,
      "outputs": []
    },
    {
      "cell_type": "code",
      "source": [
        "# I WOULD SAY THIS IS BETTER THAN THE CODE ABOVE NECESSARILY\n",
        "\n",
        "def split_Even_Odd_Sublists(nums: list[int]) -> tuple[list[int], list[int]]:\n",
        "    is_even = lambda x: x%2 == 0\n",
        "    is_odd = lambda x: x%2 != 0\n",
        "    return list(filter(is_even, nums)), list(filter(is_odd, nums))"
      ],
      "metadata": {
        "id": "TNVpgItzN_A5"
      },
      "execution_count": null,
      "outputs": []
    },
    {
      "cell_type": "code",
      "source": [
        "# IF YOU WANT TO USE THE IS_EVEN FUNCTION OUTSIDE OF SPLIT THEN DO THIS\n",
        "\n",
        "def is_even(n: int) -> bool:\n",
        "    return n % 2 == 0\n",
        "\n",
        "def is_odd(n: int) -> bool:\n",
        "    return n % 2 != 0\n",
        "\n",
        "def split_Even_Odd_Sublists(nums: list[int]) -> tuple[list[int], list[int]]:\n",
        "    return list(filter(is_even, nums)), list(filter(is_odd, nums))"
      ],
      "metadata": {
        "id": "R7NINgu5OaMB"
      },
      "execution_count": null,
      "outputs": []
    },
    {
      "cell_type": "code",
      "source": [
        "# NOT NECESSARILY BETTER THAN THE ABOVE CODE\n",
        "\n",
        "from itertools import filterfalse\n",
        "\n",
        "def split_Even_Odd_Sublists(nums: list[int]) -> tuple[list[int], list[int]]:\n",
        "    is_even = lambda x: x%2 == 0\n",
        "    return list(filter(is_even, nums)), list(filterfalse(is_even, nums))"
      ],
      "metadata": {
        "id": "9tbwi5XkPpLr"
      },
      "execution_count": null,
      "outputs": []
    },
    {
      "cell_type": "code",
      "source": [
        "def split_Even_Odd_Sublists(nums: list[int]) -> tuple[list[int], list[int]]:\n",
        "    is_even = lambda x: x%2 == 0\n",
        "    return list(filter(is_even, nums)), list(filter(lambda x: not is_even(x), nums))"
      ],
      "metadata": {
        "id": "522eB-okQaJz"
      },
      "execution_count": null,
      "outputs": []
    },
    {
      "cell_type": "code",
      "source": [
        "print(split_Even_Odd_Sublists([1, 2, 3, 6, 5, 4]))"
      ],
      "metadata": {
        "colab": {
          "base_uri": "https://localhost:8080/"
        },
        "id": "5WLisCqJNZ0B",
        "outputId": "a505017e-e875-4467-d9ff-721ebc89cb5d"
      },
      "execution_count": null,
      "outputs": [
        {
          "output_type": "stream",
          "name": "stdout",
          "text": [
            "([2, 6, 4], [1, 3, 5])\n"
          ]
        }
      ]
    },
    {
      "cell_type": "code",
      "source": [
        "num_array = [2,4,6,8,1,3,5,7,9,11,12,14,15,21]\n",
        "print(split_Even_Odd_Sublists(num_array))"
      ],
      "metadata": {
        "colab": {
          "base_uri": "https://localhost:8080/"
        },
        "id": "NK2y3vuDNcTQ",
        "outputId": "675dc548-7f9e-46b7-d6d7-2b201f1e5c40"
      },
      "execution_count": null,
      "outputs": [
        {
          "output_type": "stream",
          "name": "stdout",
          "text": [
            "([2, 4, 6, 8, 12, 14], [1, 3, 5, 7, 9, 11, 15, 21])\n"
          ]
        }
      ]
    },
    {
      "cell_type": "code",
      "source": [
        "from itertools import filterfalse\n",
        "\n",
        "list(filterfalse(is_even, [1, 2, 3, 4, 5, 6]))"
      ],
      "metadata": {
        "colab": {
          "base_uri": "https://localhost:8080/"
        },
        "id": "lglJLwk1PsUS",
        "outputId": "c06ef9a8-72e2-4a39-be6e-d5d85144ba4d"
      },
      "execution_count": null,
      "outputs": [
        {
          "output_type": "execute_result",
          "data": {
            "text/plain": [
              "[1, 3, 5]"
            ]
          },
          "metadata": {},
          "execution_count": 88
        }
      ]
    },
    {
      "cell_type": "code",
      "source": [
        "# RECURSION by Jasmine"
      ],
      "metadata": {
        "id": "EaGs4L1HQ9Te"
      },
      "execution_count": null,
      "outputs": []
    },
    {
      "cell_type": "code",
      "source": [
        "def split_even_odd_sublist(num_list: list[int], even_list=None, odd_list=None, index=0) -> tuple([list[int], list[int]]):\n",
        "    if even_list is None:\n",
        "        even_list = []\n",
        "    if odd_list is None:\n",
        "        odd_list = []\n",
        "\n",
        "    if index == len(num_list):\n",
        "        return even_list, odd_list\n",
        "\n",
        "    if num_list[index] % 2 == 0:\n",
        "        even_list.append(num_list[index])\n",
        "    else:\n",
        "        odd_list.append(num_list[index])\n",
        "\n",
        "    return split_even_odd_sublist(num_list, even_list, odd_list, index + 1)\n",
        "\n",
        "\n",
        "print(split_even_odd_sublist([2, 4, 6, 8, 1, 3, 5, 7, 9, 11, 12, 14, 15, 21]))\n"
      ],
      "metadata": {
        "colab": {
          "base_uri": "https://localhost:8080/"
        },
        "id": "Jghzim6oQ9qU",
        "outputId": "a9ec816c-fbe5-4487-ee11-6bf7fffd7496"
      },
      "execution_count": null,
      "outputs": [
        {
          "output_type": "stream",
          "name": "stdout",
          "text": [
            "([2, 4, 6, 8, 12, 14], [1, 3, 5, 7, 9, 11, 15, 21])\n"
          ]
        }
      ]
    },
    {
      "cell_type": "code",
      "source": [
        "print(split_even_odd_sublist([2, 4, 6, 8, 1, 3, 5, 7, 9, 11, 12, 14, 15, 21]))\n"
      ],
      "metadata": {
        "colab": {
          "base_uri": "https://localhost:8080/"
        },
        "id": "MDQqSbWjRMdD",
        "outputId": "94820dfc-0de4-4b43-def5-d8ffa3b7d5f5"
      },
      "execution_count": null,
      "outputs": [
        {
          "output_type": "stream",
          "name": "stdout",
          "text": [
            "([2, 4, 6, 8, 12, 14], [1, 3, 5, 7, 9, 11, 15, 21])\n"
          ]
        }
      ]
    }
  ]
}