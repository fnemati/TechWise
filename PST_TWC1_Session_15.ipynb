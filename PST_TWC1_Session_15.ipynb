{
  "nbformat": 4,
  "nbformat_minor": 0,
  "metadata": {
    "colab": {
      "provenance": [],
      "include_colab_link": true
    },
    "kernelspec": {
      "name": "python3",
      "display_name": "Python 3"
    },
    "language_info": {
      "name": "python"
    }
  },
  "cells": [
    {
      "cell_type": "markdown",
      "metadata": {
        "id": "view-in-github",
        "colab_type": "text"
      },
      "source": [
        "<a href=\"https://colab.research.google.com/github/fnemati/TechWise/blob/main/PST_TWC1_Session_15.ipynb\" target=\"_parent\"><img src=\"https://colab.research.google.com/assets/colab-badge.svg\" alt=\"Open In Colab\"/></a>"
      ]
    },
    {
      "cell_type": "markdown",
      "source": [
        "\n",
        "#Session 15\n",
        "\n",
        "* Types of Arguments\n",
        "    - Required Arguments\n",
        "    - Default Arguments\n",
        "    - Variable-length Arguments\n",
        "    - Keyword Arguments\n",
        "\n",
        "* Assignments:\n",
        "     - Calculate Perimeter Problem\n",
        "     - Concatenate the strings in the reverse order Problem"
      ],
      "metadata": {
        "id": "OmVtKrcMYbH7"
      }
    },
    {
      "cell_type": "markdown",
      "source": [
        "https://docs.python.org/3/glossary.html#term-parameter"
      ],
      "metadata": {
        "id": "hCSP6fwnmfnf"
      }
    },
    {
      "cell_type": "markdown",
      "source": [],
      "metadata": {
        "id": "VKoKaClTfMOq"
      }
    },
    {
      "cell_type": "markdown",
      "source": [
        "#TYPE OF ARGUMENTS"
      ],
      "metadata": {
        "id": "Ws8Wkw9FtmgG"
      }
    },
    {
      "cell_type": "markdown",
      "source": [
        "##Required Arguments\n",
        "\n",
        "##Problem - 1\n",
        "\n",
        "Implement a function which calculate the sum of digits of a number."
      ],
      "metadata": {
        "id": "LlCyxjPJszwk"
      }
    },
    {
      "cell_type": "code",
      "source": [
        "def sum_of_digits(num: int)-> int:\n",
        "    total = 0\n",
        "    while num > 0:\n",
        "        total += num % 10\n",
        "        num //= 10\n",
        "    return total\n",
        "\n",
        "sum_of_digits(1234)"
      ],
      "metadata": {
        "colab": {
          "base_uri": "https://localhost:8080/"
        },
        "id": "iUWx_rEZ00Qt",
        "outputId": "29423f7c-b500-4556-879f-86b26b7be71f"
      },
      "execution_count": null,
      "outputs": [
        {
          "output_type": "execute_result",
          "data": {
            "text/plain": [
              "10"
            ]
          },
          "metadata": {},
          "execution_count": 1
        }
      ]
    },
    {
      "cell_type": "code",
      "source": [
        "sum_of_digits()"
      ],
      "metadata": {
        "colab": {
          "base_uri": "https://localhost:8080/",
          "height": 141
        },
        "id": "dawCJEUq1Aj2",
        "outputId": "33c4b7d1-737e-46a3-d13e-369ef5e57620"
      },
      "execution_count": null,
      "outputs": [
        {
          "output_type": "error",
          "ename": "TypeError",
          "evalue": "sum_of_digits() missing 1 required positional argument: 'num'",
          "traceback": [
            "\u001b[0;31m---------------------------------------------------------------------------\u001b[0m",
            "\u001b[0;31mTypeError\u001b[0m                                 Traceback (most recent call last)",
            "\u001b[0;32m<ipython-input-2-b70250223123>\u001b[0m in \u001b[0;36m<cell line: 1>\u001b[0;34m()\u001b[0m\n\u001b[0;32m----> 1\u001b[0;31m \u001b[0msum_of_digits\u001b[0m\u001b[0;34m(\u001b[0m\u001b[0;34m)\u001b[0m\u001b[0;34m\u001b[0m\u001b[0;34m\u001b[0m\u001b[0m\n\u001b[0m",
            "\u001b[0;31mTypeError\u001b[0m: sum_of_digits() missing 1 required positional argument: 'num'"
          ]
        }
      ]
    },
    {
      "cell_type": "code",
      "source": [
        "sum_of_digits(1234, 12345)"
      ],
      "metadata": {
        "colab": {
          "base_uri": "https://localhost:8080/",
          "height": 141
        },
        "id": "npeqMGo31NFL",
        "outputId": "dbb94775-1a0a-4bed-9927-2285573d7f17"
      },
      "execution_count": null,
      "outputs": [
        {
          "output_type": "error",
          "ename": "TypeError",
          "evalue": "sum_of_digits() takes 1 positional argument but 2 were given",
          "traceback": [
            "\u001b[0;31m---------------------------------------------------------------------------\u001b[0m",
            "\u001b[0;31mTypeError\u001b[0m                                 Traceback (most recent call last)",
            "\u001b[0;32m<ipython-input-3-95abce2db1a2>\u001b[0m in \u001b[0;36m<cell line: 1>\u001b[0;34m()\u001b[0m\n\u001b[0;32m----> 1\u001b[0;31m \u001b[0msum_of_digits\u001b[0m\u001b[0;34m(\u001b[0m\u001b[0;36m1234\u001b[0m\u001b[0;34m,\u001b[0m \u001b[0;36m12345\u001b[0m\u001b[0;34m)\u001b[0m\u001b[0;34m\u001b[0m\u001b[0;34m\u001b[0m\u001b[0m\n\u001b[0m",
            "\u001b[0;31mTypeError\u001b[0m: sum_of_digits() takes 1 positional argument but 2 were given"
          ]
        }
      ]
    },
    {
      "cell_type": "markdown",
      "source": [
        "## Default Arguments\n",
        "\n",
        "\n",
        "* Function arguments can have default values in Python.\n",
        "\n",
        "* We can provide a default value to an argument by using the assignment operator ( = ).\n"
      ],
      "metadata": {
        "id": "YtbzMs_8tSrJ"
      }
    },
    {
      "cell_type": "code",
      "source": [
        "def sum_of_digits(num: int=0)-> int:\n",
        "    total = 0\n",
        "    while num > 0:\n",
        "        total += num % 10\n",
        "        num //= 10\n",
        "    return total\n",
        "\n",
        "sum_of_digits(1234)"
      ],
      "metadata": {
        "colab": {
          "base_uri": "https://localhost:8080/"
        },
        "id": "6qIgxwQX1kua",
        "outputId": "bb34424a-30ef-4870-80b1-ded0e10ca6b4"
      },
      "execution_count": null,
      "outputs": [
        {
          "output_type": "execute_result",
          "data": {
            "text/plain": [
              "10"
            ]
          },
          "metadata": {},
          "execution_count": 7
        }
      ]
    },
    {
      "cell_type": "code",
      "source": [
        "sum_of_digits()"
      ],
      "metadata": {
        "colab": {
          "base_uri": "https://localhost:8080/"
        },
        "id": "rh2lRczV2RKM",
        "outputId": "7e537ec6-d55f-4912-cc86-504d4bd066bf"
      },
      "execution_count": null,
      "outputs": [
        {
          "output_type": "execute_result",
          "data": {
            "text/plain": [
              "0"
            ]
          },
          "metadata": {},
          "execution_count": 5
        }
      ]
    },
    {
      "cell_type": "markdown",
      "source": [
        "##Problem - 2\n",
        "\n",
        "Implement a function to calculate the gross salary of an employee for the month of March. He is expecting 10% of HRA and 12% of TA on his basic salary. This month every employee will receive a $500 as a bonus."
      ],
      "metadata": {
        "id": "3waz3N-AEHTk"
      }
    },
    {
      "cell_type": "code",
      "source": [
        "def calculate_gross(salary: float)->float:\n",
        "    total = 0\n",
        "    total += salary\n",
        "    total += salary * .1\n",
        "    total += salary * .12\n",
        "    total += 500\n",
        "    return total\n",
        "\n",
        "calculate_gross(3000)"
      ],
      "metadata": {
        "colab": {
          "base_uri": "https://localhost:8080/"
        },
        "id": "Lx_klQiv6Hg_",
        "outputId": "3324dd01-2b30-44be-9db2-49dfb86f7af2"
      },
      "execution_count": null,
      "outputs": [
        {
          "output_type": "execute_result",
          "data": {
            "text/plain": [
              "4160.0"
            ]
          },
          "metadata": {},
          "execution_count": 14
        }
      ]
    },
    {
      "cell_type": "code",
      "source": [
        "def calculate_gross(basic_salary: float, bonus: float=500) -> float:\n",
        "    hra = basic_salary * 0.1\n",
        "    ta = basic_salary * 0.12\n",
        "    # additive calculation of TA and HRA\n",
        "    return basic_salary + ta + hra + bonus\n",
        "\n",
        "print(calculate_gross(3000, 0))\n",
        "print(calculate_gross(3000))"
      ],
      "metadata": {
        "colab": {
          "base_uri": "https://localhost:8080/"
        },
        "id": "hMC8Z1kA6PiV",
        "outputId": "6de002b6-d906-42ee-faae-89171e0ab5a0"
      },
      "execution_count": null,
      "outputs": [
        {
          "output_type": "stream",
          "name": "stdout",
          "text": [
            "3660.0\n",
            "4160.0\n"
          ]
        }
      ]
    },
    {
      "cell_type": "code",
      "source": [
        "def calculate_gross_salary(base_salary: int | None = None) -> float:\n",
        "  if base_salary == None:\n",
        "    raise Exception(\"Base salary cannot be empty\")\n",
        "  # multiplicative calculation of TA and HRA\n",
        "  return base_salary * 1.1 * 1.12 + 500\n",
        "\n",
        "calculate_gross_salary()"
      ],
      "metadata": {
        "colab": {
          "base_uri": "https://localhost:8080/",
          "height": 297
        },
        "id": "mT_6K2nC8Le5",
        "outputId": "73b802b3-4606-435b-b3b5-a920c03f7409"
      },
      "execution_count": null,
      "outputs": [
        {
          "output_type": "error",
          "ename": "Exception",
          "evalue": "Base salary cannot be empty",
          "traceback": [
            "\u001b[0;31m---------------------------------------------------------------------------\u001b[0m",
            "\u001b[0;31mException\u001b[0m                                 Traceback (most recent call last)",
            "\u001b[0;32m<ipython-input-23-7352779519c8>\u001b[0m in \u001b[0;36m<cell line: 7>\u001b[0;34m()\u001b[0m\n\u001b[1;32m      5\u001b[0m   \u001b[0;32mreturn\u001b[0m \u001b[0mbase_salary\u001b[0m \u001b[0;34m*\u001b[0m \u001b[0;36m1.1\u001b[0m \u001b[0;34m*\u001b[0m \u001b[0;36m1.12\u001b[0m \u001b[0;34m+\u001b[0m \u001b[0;36m500\u001b[0m\u001b[0;34m\u001b[0m\u001b[0;34m\u001b[0m\u001b[0m\n\u001b[1;32m      6\u001b[0m \u001b[0;34m\u001b[0m\u001b[0m\n\u001b[0;32m----> 7\u001b[0;31m \u001b[0mcalculate_gross_salary\u001b[0m\u001b[0;34m(\u001b[0m\u001b[0;34m)\u001b[0m\u001b[0;34m\u001b[0m\u001b[0;34m\u001b[0m\u001b[0m\n\u001b[0m",
            "\u001b[0;32m<ipython-input-23-7352779519c8>\u001b[0m in \u001b[0;36mcalculate_gross_salary\u001b[0;34m(base_salary)\u001b[0m\n\u001b[1;32m      1\u001b[0m \u001b[0;32mdef\u001b[0m \u001b[0mcalculate_gross_salary\u001b[0m\u001b[0;34m(\u001b[0m\u001b[0mbase_salary\u001b[0m\u001b[0;34m:\u001b[0m \u001b[0mint\u001b[0m \u001b[0;34m|\u001b[0m \u001b[0;32mNone\u001b[0m \u001b[0;34m=\u001b[0m \u001b[0;32mNone\u001b[0m\u001b[0;34m)\u001b[0m \u001b[0;34m->\u001b[0m \u001b[0mfloat\u001b[0m\u001b[0;34m:\u001b[0m\u001b[0;34m\u001b[0m\u001b[0;34m\u001b[0m\u001b[0m\n\u001b[1;32m      2\u001b[0m   \u001b[0;32mif\u001b[0m \u001b[0mbase_salary\u001b[0m \u001b[0;34m==\u001b[0m \u001b[0;32mNone\u001b[0m\u001b[0;34m:\u001b[0m\u001b[0;34m\u001b[0m\u001b[0;34m\u001b[0m\u001b[0m\n\u001b[0;32m----> 3\u001b[0;31m     \u001b[0;32mraise\u001b[0m \u001b[0mException\u001b[0m\u001b[0;34m(\u001b[0m\u001b[0;34m\"Base salary cannot be empty\"\u001b[0m\u001b[0;34m)\u001b[0m\u001b[0;34m\u001b[0m\u001b[0;34m\u001b[0m\u001b[0m\n\u001b[0m\u001b[1;32m      4\u001b[0m   \u001b[0;31m# multiplicative calculation of TA and HRA\u001b[0m\u001b[0;34m\u001b[0m\u001b[0;34m\u001b[0m\u001b[0m\n\u001b[1;32m      5\u001b[0m   \u001b[0;32mreturn\u001b[0m \u001b[0mbase_salary\u001b[0m \u001b[0;34m*\u001b[0m \u001b[0;36m1.1\u001b[0m \u001b[0;34m*\u001b[0m \u001b[0;36m1.12\u001b[0m \u001b[0;34m+\u001b[0m \u001b[0;36m500\u001b[0m\u001b[0;34m\u001b[0m\u001b[0;34m\u001b[0m\u001b[0m\n",
            "\u001b[0;31mException\u001b[0m: Base salary cannot be empty"
          ]
        }
      ]
    },
    {
      "cell_type": "markdown",
      "source": [
        "##Variable-length Arguments ( *args )\n",
        "\n",
        "\n",
        "##Problem - 3\n",
        "\n",
        "Calculate the sum of given numbers."
      ],
      "metadata": {
        "id": "FVbm_L3-wNhM"
      }
    },
    {
      "cell_type": "code",
      "source": [
        "def calculate_sum(num1 : int, num2: int, num3: int) -> int:\n",
        "    return num1 + num2 + num3\n",
        "\n",
        "calculate_sum(32, 87, 90)"
      ],
      "metadata": {
        "colab": {
          "base_uri": "https://localhost:8080/"
        },
        "id": "ooPsj-9qEaly",
        "outputId": "14b2c113-abf1-41c3-93ed-ac14e455189a"
      },
      "execution_count": null,
      "outputs": [
        {
          "output_type": "execute_result",
          "data": {
            "text/plain": [
              "209"
            ]
          },
          "metadata": {},
          "execution_count": 38
        }
      ]
    },
    {
      "cell_type": "code",
      "source": [
        "calculate_sum(2, 3, 4)\n",
        "#calculate_sum(2)\n",
        "#calculate_sum(2, 3, 4, 5)\n",
        "#calculate_sum()"
      ],
      "metadata": {
        "colab": {
          "base_uri": "https://localhost:8080/",
          "height": 176
        },
        "id": "_Sqa56E46Gld",
        "outputId": "48263d0a-9515-4f34-a284-c900a3225ba3"
      },
      "execution_count": null,
      "outputs": [
        {
          "output_type": "error",
          "ename": "TypeError",
          "evalue": "calculate_sum() missing 3 required positional arguments: 'num1', 'num2', and 'num3'",
          "traceback": [
            "\u001b[0;31m---------------------------------------------------------------------------\u001b[0m",
            "\u001b[0;31mTypeError\u001b[0m                                 Traceback (most recent call last)",
            "\u001b[0;32m<ipython-input-43-4a9cc9c4a038>\u001b[0m in \u001b[0;36m<cell line: 4>\u001b[0;34m()\u001b[0m\n\u001b[1;32m      2\u001b[0m \u001b[0;31m#calculate_sum(2)\u001b[0m\u001b[0;34m\u001b[0m\u001b[0;34m\u001b[0m\u001b[0m\n\u001b[1;32m      3\u001b[0m \u001b[0;31m#calculate_sum(2, 3, 4, 5)\u001b[0m\u001b[0;34m\u001b[0m\u001b[0;34m\u001b[0m\u001b[0m\n\u001b[0;32m----> 4\u001b[0;31m \u001b[0mcalculate_sum\u001b[0m\u001b[0;34m(\u001b[0m\u001b[0;34m)\u001b[0m\u001b[0;34m\u001b[0m\u001b[0;34m\u001b[0m\u001b[0m\n\u001b[0m",
            "\u001b[0;31mTypeError\u001b[0m: calculate_sum() missing 3 required positional arguments: 'num1', 'num2', and 'num3'"
          ]
        }
      ]
    },
    {
      "cell_type": "code",
      "source": [
        "def calculate_sum(*nums: int):\n",
        "  total = 0\n",
        "  #print(type(nums))\n",
        "  for item in nums:\n",
        "    total += item\n",
        "  return total"
      ],
      "metadata": {
        "id": "HyRSOE7LEuAR"
      },
      "execution_count": null,
      "outputs": []
    },
    {
      "cell_type": "code",
      "source": [
        "print(calculate_sum(2, 3, 4))\n",
        "print(calculate_sum(2))\n",
        "print(calculate_sum(2, 3, 4, 5))\n",
        "print(calculate_sum())\n"
      ],
      "metadata": {
        "colab": {
          "base_uri": "https://localhost:8080/"
        },
        "id": "qvsFj0JOE3B3",
        "outputId": "83d068b5-1759-46ce-babc-d654055b7b7d"
      },
      "execution_count": null,
      "outputs": [
        {
          "output_type": "stream",
          "name": "stdout",
          "text": [
            "9\n",
            "2\n",
            "14\n",
            "0\n"
          ]
        }
      ]
    },
    {
      "cell_type": "code",
      "source": [
        "my_list = [1, 2, 3, 4]\n",
        "my_tupl = (1, 2, 3, 4)\n",
        "\n",
        "print(calculate_sum(*my_list))\n",
        "print(calculate_sum(*my_tupl))\n",
        "print(calculate_sum(*my_list, 10, 20))\n",
        "print(calculate_sum(*my_tupl, 10, 20))\n"
      ],
      "metadata": {
        "colab": {
          "base_uri": "https://localhost:8080/"
        },
        "id": "VKcPRRoiFnyX",
        "outputId": "bb3e32dc-867e-49b6-b9a1-3af839c1dbcc"
      },
      "execution_count": null,
      "outputs": [
        {
          "output_type": "stream",
          "name": "stdout",
          "text": [
            "10\n",
            "10\n",
            "40\n",
            "40\n"
          ]
        }
      ]
    },
    {
      "cell_type": "code",
      "source": [
        "def surprise(my_list = []):\n",
        "    print(my_list)\n",
        "    my_list.append('x')"
      ],
      "metadata": {
        "id": "FUuAo15UDlKR"
      },
      "execution_count": null,
      "outputs": []
    },
    {
      "cell_type": "code",
      "source": [
        "def no_surprise(my_list = None):\n",
        "    if my_list == None:\n",
        "        my_list = []\n",
        "    print(my_list)\n",
        "    my_list.append('x')"
      ],
      "metadata": {
        "id": "OY_qX3K2DmO4"
      },
      "execution_count": null,
      "outputs": []
    },
    {
      "cell_type": "code",
      "source": [
        "surprise()\n",
        "surprise()\n",
        "surprise()"
      ],
      "metadata": {
        "colab": {
          "base_uri": "https://localhost:8080/"
        },
        "id": "XFjXM0TNDsFQ",
        "outputId": "8b7bc030-21b5-4300-e137-df594a3597c1"
      },
      "execution_count": null,
      "outputs": [
        {
          "output_type": "stream",
          "name": "stdout",
          "text": [
            "['x', 'x', 'x', 'x', 'x', 'x', 'x', 'x', 'x', 'x', 'x', 'x']\n",
            "['x', 'x', 'x', 'x', 'x', 'x', 'x', 'x', 'x', 'x', 'x', 'x', 'x']\n",
            "['x', 'x', 'x', 'x', 'x', 'x', 'x', 'x', 'x', 'x', 'x', 'x', 'x', 'x']\n"
          ]
        }
      ]
    },
    {
      "cell_type": "code",
      "source": [
        "no_surprise()\n",
        "no_surprise()\n",
        "no_surprise()"
      ],
      "metadata": {
        "colab": {
          "base_uri": "https://localhost:8080/"
        },
        "id": "hboGxmvEEFG6",
        "outputId": "3e707137-0c06-4f83-9044-7681812e2bdf"
      },
      "execution_count": null,
      "outputs": [
        {
          "output_type": "stream",
          "name": "stdout",
          "text": [
            "[]\n",
            "[]\n",
            "[]\n"
          ]
        }
      ]
    },
    {
      "cell_type": "markdown",
      "source": [
        "##Problem - 4\n",
        "\n",
        "Write a function which take multiple strings as input. If the length of the string is less than 3 change it to upper case otherwise convert it to lower case and finally concatenate these converted strings."
      ],
      "metadata": {
        "id": "q0r75Gj9FQbQ"
      }
    },
    {
      "cell_type": "code",
      "source": [
        "def convert_strings(*words: str):\n",
        "    final_string = ''\n",
        "    for word in words:\n",
        "        if len(word) < 3:\n",
        "            final_string += word.upper()\n",
        "        else:\n",
        "            final_string += word.lower()\n",
        "\n",
        "    return final_string\n",
        "\n",
        "convert_strings(\"Welcome\" , \"to\", \"Talentsprint\", \"Program.\")"
      ],
      "metadata": {
        "colab": {
          "base_uri": "https://localhost:8080/",
          "height": 35
        },
        "id": "h3Q_rGEVID7H",
        "outputId": "906d0c34-4a74-43d4-c879-0d7789ea4ae1"
      },
      "execution_count": null,
      "outputs": [
        {
          "output_type": "execute_result",
          "data": {
            "text/plain": [
              "'welcomeTOtalentsprintprogram.'"
            ],
            "application/vnd.google.colaboratory.intrinsic+json": {
              "type": "string"
            }
          },
          "metadata": {},
          "execution_count": 56
        }
      ]
    },
    {
      "cell_type": "markdown",
      "source": [
        "#Keyword arguments(**kwargs)\n",
        "\n",
        "* How to Use **kwargs in Python\n",
        "   \n",
        "   $**$kwargs allows us to pass a variable number of keyword arguments to a Python function. In the function, we use the double-asterisk (**) before the parameter name to denote this type of argument.\n",
        "\n",
        "* Keyword arguments can be likened to dictionaries in that they map a value to a keyword.\n",
        "\n",
        "* Thus we see that the arguments, in this case, are passed as a dictionary and these arguments make a dictionary inside the function with name same as the parameter excluding **."
      ],
      "metadata": {
        "id": "rshO98Ocy4Jz"
      }
    },
    {
      "cell_type": "code",
      "source": [
        "def capitals(**kwargs):\n",
        "    print(type(kwargs))\n",
        "    return kwargs\n",
        "\n",
        "\n",
        "capitals(India= \"New Delhi\", China= \"Beijing\", Bangladesh= \"Dhaka\", England= \"London\")"
      ],
      "metadata": {
        "colab": {
          "base_uri": "https://localhost:8080/"
        },
        "id": "28gKvdzjzAWV",
        "outputId": "887c5b9c-9241-460a-beed-e7101ea55909"
      },
      "execution_count": null,
      "outputs": [
        {
          "output_type": "stream",
          "name": "stdout",
          "text": [
            "<class 'dict'>\n"
          ]
        },
        {
          "output_type": "execute_result",
          "data": {
            "text/plain": [
              "{'India': 'New Delhi',\n",
              " 'China': 'Beijing',\n",
              " 'Bangladesh': 'Dhaka',\n",
              " 'England': 'London'}"
            ]
          },
          "metadata": {},
          "execution_count": 57
        }
      ]
    },
    {
      "cell_type": "code",
      "source": [
        "countries = {'India': 'New Dehli', 'China': 'Beijing'}\n",
        "\n",
        "capitals(**countries)"
      ],
      "metadata": {
        "colab": {
          "base_uri": "https://localhost:8080/"
        },
        "id": "3V3jyqWvI5H1",
        "outputId": "4c2d03b2-1dab-4377-8725-9f1b4dfd4430"
      },
      "execution_count": null,
      "outputs": [
        {
          "output_type": "stream",
          "name": "stdout",
          "text": [
            "<class 'dict'>\n"
          ]
        },
        {
          "output_type": "execute_result",
          "data": {
            "text/plain": [
              "{'India': 'New Dehli', 'China': 'Beijing'}"
            ]
          },
          "metadata": {},
          "execution_count": 58
        }
      ]
    },
    {
      "cell_type": "markdown",
      "source": [
        "Note that the name of the argument need not necessarily be kwargs – again, it can be anything. In this case, it's fruits. But it's generally a standard way to use **kwargs as the name."
      ],
      "metadata": {
        "id": "wsRU43MDtFw8"
      }
    },
    {
      "cell_type": "code",
      "source": [
        "def total_fruits(**fruits):\n",
        "    total = 0\n",
        "    print(type(fruits))\n",
        "    for amount in fruits.values():\n",
        "        total += amount\n",
        "    return total\n",
        "\n",
        "\n",
        "print(total_fruits(banana=5, mango=7, apple=8))\n",
        "print(total_fruits(banana=5, mango=7, apple=8, oranges=10))\n",
        "print(total_fruits(banana=5, mango=7))"
      ],
      "metadata": {
        "colab": {
          "base_uri": "https://localhost:8080/"
        },
        "id": "8tc2Ni7NJ4TK",
        "outputId": "74b3761c-f96e-4c07-edf9-eb9bd126c684"
      },
      "execution_count": null,
      "outputs": [
        {
          "output_type": "stream",
          "name": "stdout",
          "text": [
            "<class 'dict'>\n",
            "20\n",
            "<class 'dict'>\n",
            "30\n",
            "<class 'dict'>\n",
            "12\n"
          ]
        }
      ]
    },
    {
      "cell_type": "markdown",
      "source": [
        "#Problem - 5\n",
        "\n",
        "Write a function to average of the marks scored from the given arguments."
      ],
      "metadata": {
        "id": "OCaAkbvQOaXU"
      }
    },
    {
      "cell_type": "code",
      "source": [
        "def average_marks_scored(**marks) -> float:\n",
        "    total, count = 0, 0\n",
        "    for mark in marks.values():\n",
        "        total"
      ],
      "metadata": {
        "id": "wV6MHDHrJmFU"
      },
      "execution_count": null,
      "outputs": []
    },
    {
      "cell_type": "markdown",
      "source": [
        "##Assignment - 19-01\n",
        "\n",
        "###calculate the perimeter\n",
        "\n",
        "Write one function to calculate the perimeter of triangle, rectangle, pentagone, hexagone."
      ],
      "metadata": {
        "id": "_a-vCCl-hvCs"
      }
    },
    {
      "cell_type": "code",
      "source": [
        "def perimeter_of_shape(*side)->int:\n",
        "  #write your code here\n",
        "  return"
      ],
      "metadata": {
        "id": "IsvCKUB5ikoi"
      },
      "execution_count": null,
      "outputs": []
    },
    {
      "cell_type": "markdown",
      "source": [
        "#Assignment - 19 - 02\n",
        "\n",
        "###Concatenate the strings in the reverse order\n",
        "\n",
        "Write a function which take multiple strings as input. Concatenate the strings in the reverse order after reversing the strings."
      ],
      "metadata": {
        "id": "nToFfB6qBxEI"
      }
    },
    {
      "cell_type": "code",
      "source": [
        "def display_in_reverse_order(*strings)->str:\n",
        "    #Write your code here\n",
        "    return"
      ],
      "metadata": {
        "id": "2i-CKYj9CQf6"
      },
      "execution_count": null,
      "outputs": []
    },
    {
      "cell_type": "code",
      "source": [],
      "metadata": {
        "id": "ZmGFYipRsguQ"
      },
      "execution_count": null,
      "outputs": []
    }
  ]
}